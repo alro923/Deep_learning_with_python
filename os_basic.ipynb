{
  "nbformat": 4,
  "nbformat_minor": 0,
  "metadata": {
    "colab": {
      "name": "os_basic.ipynb",
      "provenance": [],
      "authorship_tag": "ABX9TyOLqldwzdgrnaxmTr9JlNwA",
      "include_colab_link": true
    },
    "kernelspec": {
      "name": "python3",
      "display_name": "Python 3"
    }
  },
  "cells": [
    {
      "cell_type": "markdown",
      "metadata": {
        "id": "view-in-github",
        "colab_type": "text"
      },
      "source": [
        "<a href=\"https://colab.research.google.com/github/alro923/Deep_learning_with_python/blob/master/os_basic.ipynb\" target=\"_parent\"><img src=\"https://colab.research.google.com/assets/colab-badge.svg\" alt=\"Open In Colab\"/></a>"
      ]
    },
    {
      "cell_type": "code",
      "metadata": {
        "id": "wfkUe64T2dB4",
        "colab_type": "code",
        "colab": {}
      },
      "source": [
        "import os"
      ],
      "execution_count": 0,
      "outputs": []
    },
    {
      "cell_type": "markdown",
      "metadata": {
        "id": "2He8BDbn2hh1",
        "colab_type": "text"
      },
      "source": [
        "os.path.join('C:\\Tmp', 'a', 'b')\n",
        "* 경로를 병합하여 새 경로 생성\t\n",
        "* \"C:\\Tmp\\a\\b\""
      ]
    }
  ]
}