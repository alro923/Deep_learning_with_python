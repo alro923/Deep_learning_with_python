{
  "nbformat": 4,
  "nbformat_minor": 0,
  "metadata": {
    "kernelspec": {
      "display_name": "Python 3",
      "language": "python",
      "name": "python3"
    },
    "language_info": {
      "codemirror_mode": {
        "name": "ipython",
        "version": 3
      },
      "file_extension": ".py",
      "mimetype": "text/x-python",
      "name": "python",
      "nbconvert_exporter": "python",
      "pygments_lexer": "ipython3",
      "version": "3.6.9"
    },
    "colab": {
      "name": "PythonBasic.ipynb",
      "provenance": []
    }
  },
  "cells": [
    {
      "cell_type": "markdown",
      "metadata": {
        "id": "Ad2s1hwv88g3",
        "colab_type": "text"
      },
      "source": [
        "## Hello, world! 출력\n",
        "print 함수로 Hello, world! 를 출력합니다."
      ]
    },
    {
      "cell_type": "code",
      "metadata": {
        "id": "QnyV0knL88g6",
        "colab_type": "code",
        "outputId": "feb835f4-3dd5-43db-be54-d2fac6824736",
        "colab": {}
      },
      "source": [
        "print('Hello, world!')"
      ],
      "execution_count": 0,
      "outputs": [
        {
          "output_type": "stream",
          "text": [
            "Hello, world!\n"
          ],
          "name": "stdout"
        }
      ]
    },
    {
      "cell_type": "markdown",
      "metadata": {
        "id": "WIJwbML888g_",
        "colab_type": "text"
      },
      "source": [
        "In []: 이 In [1]: 로 바뀌었는데, 1은 첫 번째로 실행된 코드라는 뜻임. 노트북에서는 코드 입력 셀이 추가될 수록 숫자가 증가함. 아래에 있는 셀 계속 실행하니까 숫자 계속 증가함."
      ]
    },
    {
      "cell_type": "code",
      "metadata": {
        "id": "RiGT89Ec88hA",
        "colab_type": "code",
        "outputId": "9630e5b9-2b49-4686-9d50-07da19715364",
        "colab": {}
      },
      "source": [
        "str = 'www.naver.com'\n",
        "a, b, c = str.split('.')\n",
        "print(b)"
      ],
      "execution_count": 0,
      "outputs": [
        {
          "output_type": "stream",
          "text": [
            "naver\n"
          ],
          "name": "stdout"
        }
      ]
    },
    {
      "cell_type": "markdown",
      "metadata": {
        "id": "gdXfkNTK88hD",
        "colab_type": "text"
      },
      "source": [
        "## 리스트 생성하기\n",
        "range를 사용하여 숫자로 된 리스트를 생성해보자."
      ]
    },
    {
      "cell_type": "code",
      "metadata": {
        "id": "tzDvvyz388hE",
        "colab_type": "code",
        "outputId": "7f417228-9650-4fa7-d98f-174c90590692",
        "colab": {}
      },
      "source": [
        "a = []\n",
        "a"
      ],
      "execution_count": 0,
      "outputs": [
        {
          "output_type": "execute_result",
          "data": {
            "text/plain": [
              "[]"
            ]
          },
          "metadata": {
            "tags": []
          },
          "execution_count": 42
        }
      ]
    },
    {
      "cell_type": "markdown",
      "metadata": {
        "id": "yKM9SwAU88hH",
        "colab_type": "text"
      },
      "source": [
        "a = list() 로 위의 셸과 동일하게 리스트를 생성할 수 있는데,\n",
        "'list object is not callable'이라는 오류가 뜬다. ~~아직 해결 못 함.~~ 해결됨!\n",
        "* Kernel restart 하고 del list 하니까 되더라"
      ]
    },
    {
      "cell_type": "code",
      "metadata": {
        "id": "BtbQtmYJ88hI",
        "colab_type": "code",
        "outputId": "c2dc554b-c5b5-4c0e-b692-cf79f5acecc0",
        "colab": {}
      },
      "source": [
        "a = list()\n",
        "a"
      ],
      "execution_count": 0,
      "outputs": [
        {
          "output_type": "execute_result",
          "data": {
            "text/plain": [
              "[]"
            ]
          },
          "metadata": {
            "tags": []
          },
          "execution_count": 73
        }
      ]
    },
    {
      "cell_type": "code",
      "metadata": {
        "id": "d6wrcolD88hL",
        "colab_type": "code",
        "outputId": "8a383710-182d-43f5-844a-4f079969e701",
        "colab": {}
      },
      "source": [
        "b = []\n",
        "b.append(1)\n",
        "b.append(2)\n",
        "b"
      ],
      "execution_count": 0,
      "outputs": [
        {
          "output_type": "execute_result",
          "data": {
            "text/plain": [
              "[1, 2]"
            ]
          },
          "metadata": {
            "tags": []
          },
          "execution_count": 27
        }
      ]
    },
    {
      "cell_type": "code",
      "metadata": {
        "id": "0ZFiUxQ888hO",
        "colab_type": "code",
        "outputId": "29139e48-261d-4175-9e98-4de4e2ec275e",
        "colab": {}
      },
      "source": [
        "c = 'Hi I am olaf and I like warm hug'.split()\n",
        "c\n",
        "c[3]"
      ],
      "execution_count": 0,
      "outputs": [
        {
          "output_type": "execute_result",
          "data": {
            "text/plain": [
              "'olaf'"
            ]
          },
          "metadata": {
            "tags": []
          },
          "execution_count": 28
        }
      ]
    },
    {
      "cell_type": "code",
      "metadata": {
        "id": "e_JmWB2W88hR",
        "colab_type": "code",
        "outputId": "9d7b37ac-93bd-40b7-b67e-802c238a91fb",
        "colab": {}
      },
      "source": [
        "c[1:4]\n"
      ],
      "execution_count": 0,
      "outputs": [
        {
          "output_type": "execute_result",
          "data": {
            "text/plain": [
              "['I', 'am', 'olaf']"
            ]
          },
          "metadata": {
            "tags": []
          },
          "execution_count": 29
        }
      ]
    },
    {
      "cell_type": "code",
      "metadata": {
        "id": "OvVZdYmv88hU",
        "colab_type": "code",
        "outputId": "d8d27c70-fd89-4ec1-c398-18859956e4a1",
        "colab": {}
      },
      "source": [
        "c[5:-1]"
      ],
      "execution_count": 0,
      "outputs": [
        {
          "output_type": "execute_result",
          "data": {
            "text/plain": [
              "['I', 'like', 'warm']"
            ]
          },
          "metadata": {
            "tags": []
          },
          "execution_count": 33
        }
      ]
    },
    {
      "cell_type": "code",
      "metadata": {
        "id": "7WXrfT-U88hY",
        "colab_type": "code",
        "outputId": "e2868e41-4ddc-4f6a-acc0-40df1640747f",
        "colab": {}
      },
      "source": [
        "c[1:]"
      ],
      "execution_count": 0,
      "outputs": [
        {
          "output_type": "execute_result",
          "data": {
            "text/plain": [
              "['I', 'am', 'olaf', 'and', 'I', 'like', 'warm', 'hug']"
            ]
          },
          "metadata": {
            "tags": []
          },
          "execution_count": 35
        }
      ]
    },
    {
      "cell_type": "code",
      "metadata": {
        "id": "E0Zg1mPJ88hb",
        "colab_type": "code",
        "outputId": "84bb58dd-a46d-4706-dbfc-4f05793b34ee",
        "colab": {}
      },
      "source": [
        "c[:8]"
      ],
      "execution_count": 0,
      "outputs": [
        {
          "output_type": "execute_result",
          "data": {
            "text/plain": [
              "['Hi', 'I', 'am', 'olaf', 'and', 'I', 'like', 'warm']"
            ]
          },
          "metadata": {
            "tags": []
          },
          "execution_count": 36
        }
      ]
    },
    {
      "cell_type": "code",
      "metadata": {
        "id": "eYRlN7to88hg",
        "colab_type": "code",
        "outputId": "93cb5d51-23da-4c43-8567-9c5909acf9f4",
        "colab": {}
      },
      "source": [
        "copy_c = c[:]\n",
        "copy_c"
      ],
      "execution_count": 0,
      "outputs": [
        {
          "output_type": "execute_result",
          "data": {
            "text/plain": [
              "['Hi', 'I', 'am', 'olaf', 'and', 'I', 'like', 'warm', 'hug']"
            ]
          },
          "metadata": {
            "tags": []
          },
          "execution_count": 37
        }
      ]
    },
    {
      "cell_type": "code",
      "metadata": {
        "id": "BAxISjEa88hj",
        "colab_type": "code",
        "outputId": "005534fb-26a2-41f0-b709-464cb448337c",
        "colab": {}
      },
      "source": [
        "copy_c2 = c.copy()\n",
        "copy_c2"
      ],
      "execution_count": 0,
      "outputs": [
        {
          "output_type": "execute_result",
          "data": {
            "text/plain": [
              "['Hi', 'I', 'am', 'olaf', 'and', 'I', 'like', 'warm', 'hug']"
            ]
          },
          "metadata": {
            "tags": []
          },
          "execution_count": 39
        }
      ]
    },
    {
      "cell_type": "code",
      "metadata": {
        "id": "ES5Mdqa188hm",
        "colab_type": "code",
        "outputId": "58f7538f-ec82-4f92-e3e4-f2ca13eee407",
        "colab": {}
      },
      "source": [
        "c.sort()\n",
        "c"
      ],
      "execution_count": 0,
      "outputs": [
        {
          "output_type": "execute_result",
          "data": {
            "text/plain": [
              "['Hi', 'I', 'I', 'am', 'and', 'hug', 'like', 'olaf', 'warm']"
            ]
          },
          "metadata": {
            "tags": []
          },
          "execution_count": 40
        }
      ]
    },
    {
      "cell_type": "code",
      "metadata": {
        "id": "P0LvLoYu88ho",
        "colab_type": "code",
        "outputId": "53b24b67-4225-4c9f-d5ad-783fd2d11a98",
        "colab": {}
      },
      "source": [
        "c.append('yeah')\n",
        "c"
      ],
      "execution_count": 0,
      "outputs": [
        {
          "output_type": "execute_result",
          "data": {
            "text/plain": [
              "['Hi', 'I', 'I', 'am', 'and', 'hug', 'like', 'olaf', 'warm', 'yeah']"
            ]
          },
          "metadata": {
            "tags": []
          },
          "execution_count": 41
        }
      ]
    },
    {
      "cell_type": "code",
      "metadata": {
        "id": "cVqydD5x88hr",
        "colab_type": "code",
        "outputId": "3385e543-ce53-4d66-c088-e161f3011dd7",
        "colab": {}
      },
      "source": [
        "a1, a2 =[1,2,3], [2,3,4]\n",
        "a2"
      ],
      "execution_count": 0,
      "outputs": [
        {
          "output_type": "execute_result",
          "data": {
            "text/plain": [
              "[2, 3, 4]"
            ]
          },
          "metadata": {
            "tags": []
          },
          "execution_count": 52
        }
      ]
    },
    {
      "cell_type": "markdown",
      "metadata": {
        "id": "5yHX1MNZ88hu",
        "colab_type": "text"
      },
      "source": [
        "## 튜플이란?\n",
        "튜플(tuple)은 몇 가지 점을 제외하곤 리스트와 거의 비슷하며 리스트와 다른 점은 다음과 같다.\n",
        "\n",
        "1. 리스트는 [ ]으로 둘러싸지만 튜플은 ( )으로 둘러싼다.\n",
        "2. 리스트는 그 값의 생성, 삭제, 수정이 가능하지만 튜플은 그 값을 바꿀 수 없다.\n",
        "\n",
        "아 그리고 튜플에 값이 하나일때 맨뒤에 ',' 꼭 붙여줘야한다."
      ]
    },
    {
      "cell_type": "code",
      "metadata": {
        "id": "5YT3DZb_88hu",
        "colab_type": "code",
        "outputId": "0b08593c-7622-4b2f-af5d-f21959781bfc",
        "colab": {}
      },
      "source": [
        "t1 = ()\n",
        "t1"
      ],
      "execution_count": 0,
      "outputs": [
        {
          "output_type": "execute_result",
          "data": {
            "text/plain": [
              "()"
            ]
          },
          "metadata": {
            "tags": []
          },
          "execution_count": 44
        }
      ]
    },
    {
      "cell_type": "code",
      "metadata": {
        "id": "wotZ6FV688hx",
        "colab_type": "code",
        "outputId": "e526d9e7-6b73-4a77-f3b4-c15220ed66ba",
        "colab": {}
      },
      "source": [
        "t2 = (1,)\n",
        "t2"
      ],
      "execution_count": 0,
      "outputs": [
        {
          "output_type": "execute_result",
          "data": {
            "text/plain": [
              "(1,)"
            ]
          },
          "metadata": {
            "tags": []
          },
          "execution_count": 47
        }
      ]
    },
    {
      "cell_type": "code",
      "metadata": {
        "id": "7qynUiTi88h0",
        "colab_type": "code",
        "outputId": "9a9b6562-810b-473f-fbc3-836166f31b3b",
        "colab": {}
      },
      "source": [
        "t3 = (1,2,3)\n",
        "t3"
      ],
      "execution_count": 0,
      "outputs": [
        {
          "output_type": "execute_result",
          "data": {
            "text/plain": [
              "(1, 2, 3)"
            ]
          },
          "metadata": {
            "tags": []
          },
          "execution_count": 46
        }
      ]
    },
    {
      "cell_type": "markdown",
      "metadata": {
        "id": "SVfF4Irx88h2",
        "colab_type": "text"
      },
      "source": [
        "## enumerate 함수\n",
        "* 리스트가 있는 경우, 순서와 리스트 값을 전달하는 기능\n",
        "* enumerate : 열거하다\n",
        "* 이 함수는 순서가 있는 자료형(리스트, 튜플, 문자열)을 입력받아서 인덱스 값을 포함하는 enumerate 객체를 리턴한다.\n",
        "* 보통 for문과 함께 자주 사용된다.\n"
      ]
    },
    {
      "cell_type": "code",
      "metadata": {
        "id": "Qdvy5Q4w88h2",
        "colab_type": "code",
        "outputId": "58f0e4ac-a64c-4a75-b68a-cb0f8002057d",
        "colab": {}
      },
      "source": [
        "for i, name in enumerate(['apple', 'banana', 'carrot']):\n",
        "    print(i, name)"
      ],
      "execution_count": 0,
      "outputs": [
        {
          "output_type": "stream",
          "text": [
            "0 apple\n",
            "1 banana\n",
            "2 carrot\n"
          ],
          "name": "stdout"
        }
      ]
    },
    {
      "cell_type": "code",
      "metadata": {
        "id": "2soHdCyY88h6",
        "colab_type": "code",
        "outputId": "eb2e5915-199d-491a-febb-be5602bf6d8d",
        "colab": {}
      },
      "source": [
        "import numpy as np\n",
        "results = np.zeros((4,3))\n",
        "# 4*3 행렬 만들고\n",
        "for i, name in enumerate(['apple', 'banana', 'carrot']):\n",
        "    results[i,2] = 1\n",
        "# 리스트에서 i, name 가져와서 (i 는 0, 1, 2, name은 apple, banana, carrot)\n",
        "# results[i,2]를 1 로 만든다.\n",
        "results"
      ],
      "execution_count": 0,
      "outputs": [
        {
          "output_type": "execute_result",
          "data": {
            "text/plain": [
              "array([[0., 0., 1.],\n",
              "       [0., 0., 1.],\n",
              "       [0., 0., 1.],\n",
              "       [0., 0., 0.]])"
            ]
          },
          "metadata": {
            "tags": []
          },
          "execution_count": 95
        }
      ]
    },
    {
      "cell_type": "code",
      "metadata": {
        "id": "GGAwh-JN88h9",
        "colab_type": "code",
        "outputId": "168b360c-baf9-4a3a-e236-93db8115b1a4",
        "colab": {}
      },
      "source": [
        "names = ['Amy', 'Bill', 'Cindy']\n",
        "for i, name in enumerate(names):\n",
        "    print('{}번: {}'.format(i+1, name))"
      ],
      "execution_count": 0,
      "outputs": [
        {
          "output_type": "stream",
          "text": [
            "1번: Amy\n",
            "2번: Bill\n",
            "3번: Cindy\n"
          ],
          "name": "stdout"
        }
      ]
    },
    {
      "cell_type": "markdown",
      "metadata": {
        "id": "3tx40FkE88h_",
        "colab_type": "text"
      },
      "source": [
        "## print 함수와 format 함수"
      ]
    },
    {
      "cell_type": "code",
      "metadata": {
        "id": "K3VvkL7I88h_",
        "colab_type": "code",
        "outputId": "5c5160ec-c35e-41d3-9168-d1b2633ce8c4",
        "colab": {}
      },
      "source": [
        "a = 1\n",
        "b = 2\n",
        "c = 3\n",
        "print(' a  = {}, b = {}, c = {}'.format(a,b,c))"
      ],
      "execution_count": 0,
      "outputs": [
        {
          "output_type": "stream",
          "text": [
            " a  = 1, b = 2, c = 3\n"
          ],
          "name": "stdout"
        }
      ]
    },
    {
      "cell_type": "code",
      "metadata": {
        "id": "TjG5yuKP88iC",
        "colab_type": "code",
        "outputId": "1e3c1f31-20fa-4792-ebb5-9bbae647c876",
        "colab": {}
      },
      "source": [
        "print('a = {0}, b = {1}, c = {2}'.format(a,b,c))"
      ],
      "execution_count": 0,
      "outputs": [
        {
          "output_type": "stream",
          "text": [
            "a = 1, b = 2, c = 3\n"
          ],
          "name": "stdout"
        }
      ]
    },
    {
      "cell_type": "code",
      "metadata": {
        "id": "TAoRdcn088iE",
        "colab_type": "code",
        "outputId": "66ce1ace-f1c0-45b8-b890-8db3517bb5ea",
        "colab": {}
      },
      "source": [
        "print('a = {0}, b = {0}, c = {0}'.format(a,b,c))\n",
        "# format 뒤에있는 값들의 index를 넣으면 그 값이 print 된다."
      ],
      "execution_count": 0,
      "outputs": [
        {
          "output_type": "stream",
          "text": [
            "a = 1, b = 1, c = 1\n"
          ],
          "name": "stdout"
        }
      ]
    },
    {
      "cell_type": "code",
      "metadata": {
        "id": "54J1lmnF88iH",
        "colab_type": "code",
        "outputId": "62e35ce7-f145-4cbb-dfe2-fedee17995e3",
        "colab": {}
      },
      "source": [
        "print('a = {2}, b = {1}, c = {0}'.format(a,b,c))\n",
        "# format 뒤에있는 값들의 index를 넣으면 그 값이 print 된다."
      ],
      "execution_count": 0,
      "outputs": [
        {
          "output_type": "stream",
          "text": [
            "a = 3, b = 2, c = 1\n"
          ],
          "name": "stdout"
        }
      ]
    },
    {
      "cell_type": "code",
      "metadata": {
        "id": "D5u3tS0w88iJ",
        "colab_type": "code",
        "outputId": "f5340d6f-f392-40d2-c9ce-91e488f7138c",
        "colab": {}
      },
      "source": [
        "print('a = [{}], b = [{}], c = [{}]'.format(a,b,c))"
      ],
      "execution_count": 0,
      "outputs": [
        {
          "output_type": "stream",
          "text": [
            "a = [1], b = [2], c = [3]\n"
          ],
          "name": "stdout"
        }
      ]
    },
    {
      "cell_type": "code",
      "metadata": {
        "id": "g0H0m6c388iM",
        "colab_type": "code",
        "outputId": "bda28264-fedc-4696-d025-fd9916bd8263",
        "colab": {}
      },
      "source": [
        "print('a = ({}), b = [{}], c = [{}]'.format(a,b,c))\n",
        "# {} 자리에 출력되는 거니까, 괄호 바꾸는 거 가능\n",
        "# c언어에서 %연산자 사용하는 것과 비슷한다고 생각하면 됨"
      ],
      "execution_count": 0,
      "outputs": [
        {
          "output_type": "stream",
          "text": [
            "a = (1), b = [2], c = [3]\n"
          ],
          "name": "stdout"
        }
      ]
    },
    {
      "cell_type": "code",
      "metadata": {
        "id": "U0CDC9Cx88iO",
        "colab_type": "code",
        "outputId": "d7c6c53e-f593-487c-8308-bb3c790f6835",
        "colab": {}
      },
      "source": [
        "print('a = [{0:5d}], b = [{1:10d}], c = [{2:20d}]'.format(a,b,c))\n",
        "#c랑 비슷하네 (index):(몇자리차지)(형태 ex>정수형은 d)"
      ],
      "execution_count": 0,
      "outputs": [
        {
          "output_type": "stream",
          "text": [
            "a = [    1], b = [         2], c = [                   3]\n"
          ],
          "name": "stdout"
        }
      ]
    },
    {
      "cell_type": "code",
      "metadata": {
        "id": "sTPPi1FQ88iQ",
        "colab_type": "code",
        "outputId": "4df9a224-5a44-4082-81b1-79c226b1da67",
        "colab": {}
      },
      "source": [
        "print('a = [{0:<5d}], b = [{1:>10d}], c = [{2:^20d}]'.format(a,b,c))\n",
        "# ':'뒤에 < 붙이면 좌측 정렬, > 는 우측정렬(우측은 필요없긴함), ^는 가운데 정렬"
      ],
      "execution_count": 0,
      "outputs": [
        {
          "output_type": "stream",
          "text": [
            "a = [1    ], b = [         2], c = [         3          ]\n"
          ],
          "name": "stdout"
        }
      ]
    },
    {
      "cell_type": "code",
      "metadata": {
        "id": "433wRaPB88iW",
        "colab_type": "code",
        "outputId": "3904e491-601b-464f-c005-3799ddc1cee7",
        "colab": {}
      },
      "source": [
        "a = 'apple'\n",
        "b = 'banana'\n",
        "a,b"
      ],
      "execution_count": 0,
      "outputs": [
        {
          "output_type": "execute_result",
          "data": {
            "text/plain": [
              "('apple', 'banana')"
            ]
          },
          "metadata": {
            "tags": []
          },
          "execution_count": 15
        }
      ]
    },
    {
      "cell_type": "code",
      "metadata": {
        "id": "A-6DAyd988iZ",
        "colab_type": "code",
        "outputId": "fc903310-bab4-4058-85e0-603805534523",
        "colab": {}
      },
      "source": [
        "print('a = {}, b = {}'.format(a,b))"
      ],
      "execution_count": 0,
      "outputs": [
        {
          "output_type": "stream",
          "text": [
            "a = apple, b = banana\n"
          ],
          "name": "stdout"
        }
      ]
    },
    {
      "cell_type": "code",
      "metadata": {
        "id": "Rpa3sGn088ib",
        "colab_type": "code",
        "outputId": "633bd44c-3907-4e59-fefb-1fa10f57c28b",
        "colab": {}
      },
      "source": [
        "print('a = {1}, b = {0}'.format(a,b))"
      ],
      "execution_count": 0,
      "outputs": [
        {
          "output_type": "stream",
          "text": [
            "a = banana, b = apple\n"
          ],
          "name": "stdout"
        }
      ]
    },
    {
      "cell_type": "code",
      "metadata": {
        "id": "QHrh6H_a88id",
        "colab_type": "code",
        "outputId": "1bad91d9-6d6c-4611-df94-f94b41f6d471",
        "colab": {}
      },
      "source": [
        "print('a = [{0:10s}], b = [{1:20s}]'.format(a,b))"
      ],
      "execution_count": 0,
      "outputs": [
        {
          "output_type": "stream",
          "text": [
            "a = [apple     ], b = [banana              ]\n"
          ],
          "name": "stdout"
        }
      ]
    },
    {
      "cell_type": "code",
      "metadata": {
        "id": "ST3508qg88if",
        "colab_type": "code",
        "outputId": "3e60903d-908f-45a9-e29c-54234c3184a5",
        "colab": {}
      },
      "source": [
        "print('a = [{0:<10s}], b = [{1:^20s}]'.format(a,b))"
      ],
      "execution_count": 0,
      "outputs": [
        {
          "output_type": "stream",
          "text": [
            "a = [apple     ], b = [       banana       ]\n"
          ],
          "name": "stdout"
        }
      ]
    },
    {
      "cell_type": "code",
      "metadata": {
        "id": "TgAxOhSY88ih",
        "colab_type": "code",
        "outputId": "e3183e3e-405d-4a2e-ff14-f86f9832447d",
        "colab": {}
      },
      "source": [
        "a = 314.15\n",
        "b = 5.1876\n",
        "print('a = {}, b = {}'.format(a,b))"
      ],
      "execution_count": 0,
      "outputs": [
        {
          "output_type": "stream",
          "text": [
            "a = 314.15, b = 5.1876\n"
          ],
          "name": "stdout"
        }
      ]
    },
    {
      "cell_type": "code",
      "metadata": {
        "id": "kQEkoaBK88ik",
        "colab_type": "code",
        "outputId": "9227ab94-261f-4f33-c400-01a8e00a9278",
        "colab": {}
      },
      "source": [
        "print('a = {1}, b = {0}'.format(a,b))"
      ],
      "execution_count": 0,
      "outputs": [
        {
          "output_type": "stream",
          "text": [
            "a = 5.1876, b = 314.15\n"
          ],
          "name": "stdout"
        }
      ]
    },
    {
      "cell_type": "code",
      "metadata": {
        "id": "bT8oA57i88im",
        "colab_type": "code",
        "outputId": "39a82585-952d-4f2b-fd23-19368acd005c",
        "colab": {}
      },
      "source": [
        "print('a = {0:f}, b = {1:f}'.format(a,b))"
      ],
      "execution_count": 0,
      "outputs": [
        {
          "output_type": "stream",
          "text": [
            "a = 314.150000, b = 5.187600\n"
          ],
          "name": "stdout"
        }
      ]
    },
    {
      "cell_type": "code",
      "metadata": {
        "id": "14WHjc4688io",
        "colab_type": "code",
        "outputId": "50add703-5f11-4229-dc29-4b0ccccd3fd9",
        "colab": {}
      },
      "source": [
        "print('a = [{0:10f}], b = [{1:20f}]'.format(a,b))"
      ],
      "execution_count": 0,
      "outputs": [
        {
          "output_type": "stream",
          "text": [
            "a = [314.150000], b = [            5.187600]\n"
          ],
          "name": "stdout"
        }
      ]
    },
    {
      "cell_type": "code",
      "metadata": {
        "id": "oc-GV9yV88ir",
        "colab_type": "code",
        "outputId": "238f0406-cc59-4bc6-d1f4-ef553cef5003",
        "colab": {}
      },
      "source": [
        "print('a = [{0:<10f}], b = [{1:^20f}]'.format(a,b))"
      ],
      "execution_count": 0,
      "outputs": [
        {
          "output_type": "stream",
          "text": [
            "a = [314.150000], b = [      5.187600      ]\n"
          ],
          "name": "stdout"
        }
      ]
    },
    {
      "cell_type": "code",
      "metadata": {
        "id": "6wkdEhai88it",
        "colab_type": "code",
        "outputId": "5e91fbab-6e81-4352-8e93-cd5d77d33b4d",
        "colab": {}
      },
      "source": [
        "print('a = [{0:10.2f}], b = [{1:5.1f}]'.format(a,b))\n",
        "# index : (몇자리차지).(소수점뒤에몇자리)(형태 ex> 실수형 f)\n",
        "# 이때 반올림 돼서 나타나진다."
      ],
      "execution_count": 0,
      "outputs": [
        {
          "output_type": "stream",
          "text": [
            "a = [    314.15], b = [  5.2]\n"
          ],
          "name": "stdout"
        }
      ]
    },
    {
      "cell_type": "code",
      "metadata": {
        "id": "jEPuJheq88iw",
        "colab_type": "code",
        "outputId": "46a3a4cd-ac32-4c66-8cd3-a9a14ab59365",
        "colab": {}
      },
      "source": [
        "print('a = [{0:.10f}], b = [{1:.20f}]'.format(a,b))\n",
        "# . 앞에 아무것도 안붙이면 숫자 길이는 안정해진거고, 그냥 . 뒤에 몇자리 올지로 숫자 길이 정해진다.\n",
        "# 그리고 이때 정렬은 못함!"
      ],
      "execution_count": 0,
      "outputs": [
        {
          "output_type": "stream",
          "text": [
            "a = [314.1500000000], b = [5.18759999999999976694]\n"
          ],
          "name": "stdout"
        }
      ]
    },
    {
      "cell_type": "markdown",
      "metadata": {
        "id": "PX8qL90488iz",
        "colab_type": "text"
      },
      "source": [
        "## join\n",
        "* 리스트에 특정 구분자를 추가하여 문자열로 반환하는 함수"
      ]
    },
    {
      "cell_type": "code",
      "metadata": {
        "id": "hqm61qyb88i0",
        "colab_type": "code",
        "outputId": "a50d5671-070b-48f2-d4c5-4217fcf10e8f",
        "colab": {}
      },
      "source": [
        "list = ['a', 'b', 'c']\n",
        "str = \",\".join(list)\n",
        "print(str)"
      ],
      "execution_count": 0,
      "outputs": [
        {
          "output_type": "stream",
          "text": [
            "a,b,c\n"
          ],
          "name": "stdout"
        }
      ]
    },
    {
      "cell_type": "code",
      "metadata": {
        "id": "YLadYgJ188i5",
        "colab_type": "code",
        "outputId": "54a37ec6-c1b9-41b9-9473-f7fa311fdb61",
        "colab": {}
      },
      "source": [
        "list = ['a', 'b', 'c']\n",
        "str = \" \".join(list)\n",
        "print(str)"
      ],
      "execution_count": 0,
      "outputs": [
        {
          "output_type": "stream",
          "text": [
            "a b c\n"
          ],
          "name": "stdout"
        }
      ]
    },
    {
      "cell_type": "code",
      "metadata": {
        "id": "r9HAD_Kz88i-",
        "colab_type": "code",
        "outputId": "451fb57c-5bd9-4884-b185-363c63fa5848",
        "colab": {}
      },
      "source": [
        "list = ['a', 'b', 'c']\n",
        "str = \":\".join(list)\n",
        "print(str)"
      ],
      "execution_count": 0,
      "outputs": [
        {
          "output_type": "stream",
          "text": [
            "a:b:c\n"
          ],
          "name": "stdout"
        }
      ]
    },
    {
      "cell_type": "markdown",
      "metadata": {
        "id": "Q0DCm2Q788jC",
        "colab_type": "text"
      },
      "source": [
        "## split\n",
        "* 문자열을 특정 구분자를 기준으로 분리해서 리스트로 반환하는 함수"
      ]
    },
    {
      "cell_type": "code",
      "metadata": {
        "id": "tkBYvJda88jD",
        "colab_type": "code",
        "outputId": "9253b5f6-3213-4221-bc4d-1d3a82484e6b",
        "colab": {}
      },
      "source": [
        "list2 = str.split(':')\n",
        "print(list2)"
      ],
      "execution_count": 0,
      "outputs": [
        {
          "output_type": "stream",
          "text": [
            "['a', 'b', 'c']\n"
          ],
          "name": "stdout"
        }
      ]
    },
    {
      "cell_type": "markdown",
      "metadata": {
        "id": "QYUIoPro88jE",
        "colab_type": "text"
      },
      "source": [
        "## 딕셔너리란?\n",
        "key와 Value를 한 쌍으로 갖는 자료형.\n",
        "* 딕셔너리는 key를 통해 value를 얻는다.\n",
        "* 영한 사전이라 생각할때, Key = \"baseball\"이면, Value = \"야구\"이다,\n",
        "* baseball 이란 단어의 뜻을 찾기 위해 순차적으로 모두 검색하는 게 아니라 baseball이 있는 곳만 펼쳐보면 됨 (순차적인 리스트, 튜플 과는 다른 점이다.)"
      ]
    },
    {
      "cell_type": "code",
      "metadata": {
        "id": "4IQnOEGO88jF",
        "colab_type": "code",
        "outputId": "d5b9ed0b-bb5d-4554-f273-e3f12e75fba6",
        "colab": {}
      },
      "source": [
        "dic = {'name':'uhhyunjoo', 'age':23, 'height':168.1, 'colors':['black', 'white', 'blue']}\n",
        "dic"
      ],
      "execution_count": 0,
      "outputs": [
        {
          "output_type": "execute_result",
          "data": {
            "text/plain": [
              "{'name': 'uhhyunjoo',\n",
              " 'age': 23,\n",
              " 'height': 168.1,\n",
              " 'colors': ['black', 'white', 'blue']}"
            ]
          },
          "metadata": {
            "tags": []
          },
          "execution_count": 47
        }
      ]
    },
    {
      "cell_type": "markdown",
      "metadata": {
        "id": "cmi2AsAc88jJ",
        "colab_type": "text"
      },
      "source": [
        "* key에는 변하지 않는 값을 사용하고, Value는 변하는 값과 변하지 않는 값 모두 사용할 수 있다.\n",
        "* Value에 리스트도 넣을 수 있다."
      ]
    },
    {
      "cell_type": "code",
      "metadata": {
        "id": "2m5SwRpp88jJ",
        "colab_type": "code",
        "outputId": "cbd8e063-e805-4b33-b5d5-a73fd6b4e437",
        "colab": {}
      },
      "source": [
        "dic['효과음'] = '얍'\n",
        "dic"
      ],
      "execution_count": 0,
      "outputs": [
        {
          "output_type": "execute_result",
          "data": {
            "text/plain": [
              "{'name': 'uhhyunjoo',\n",
              " 'age': 23,\n",
              " 'height': 168.1,\n",
              " 'colors': ['black', 'white', 'blue'],\n",
              " 4: '얍',\n",
              " '효과음': '얍'}"
            ]
          },
          "metadata": {
            "tags": []
          },
          "execution_count": 49
        }
      ]
    },
    {
      "cell_type": "code",
      "metadata": {
        "id": "4M9pqJOi88jL",
        "colab_type": "code",
        "outputId": "a963c3c7-9bc1-467f-da33-5042f19b7d31",
        "colab": {}
      },
      "source": [
        "del dic[4]\n",
        "dic"
      ],
      "execution_count": 0,
      "outputs": [
        {
          "output_type": "execute_result",
          "data": {
            "text/plain": [
              "{'name': 'uhhyunjoo',\n",
              " 'age': 23,\n",
              " 'height': 168.1,\n",
              " 'colors': ['black', 'white', 'blue'],\n",
              " '효과음': '얍'}"
            ]
          },
          "metadata": {
            "tags": []
          },
          "execution_count": 50
        }
      ]
    },
    {
      "cell_type": "code",
      "metadata": {
        "id": "uEuNTpid88jP",
        "colab_type": "code",
        "outputId": "74796503-1f8e-4733-ef21-ac032ce2e655",
        "colab": {}
      },
      "source": [
        "dic['age']"
      ],
      "execution_count": 0,
      "outputs": [
        {
          "output_type": "execute_result",
          "data": {
            "text/plain": [
              "23"
            ]
          },
          "metadata": {
            "tags": []
          },
          "execution_count": 51
        }
      ]
    },
    {
      "cell_type": "code",
      "metadata": {
        "id": "Td5gFgOM88jR",
        "colab_type": "code",
        "outputId": "d96e7749-1881-45d4-b1dd-af9c77c659bf",
        "colab": {}
      },
      "source": [
        "dic = {1: 'A', 2: 'B', 2: 'C'}\n",
        "dic[2]\n",
        "# key가 동일하면 앞의 것은 무시된다."
      ],
      "execution_count": 0,
      "outputs": [
        {
          "output_type": "execute_result",
          "data": {
            "text/plain": [
              "'C'"
            ]
          },
          "metadata": {
            "tags": []
          },
          "execution_count": 67
        }
      ]
    },
    {
      "cell_type": "code",
      "metadata": {
        "id": "YatNivsT88jT",
        "colab_type": "code",
        "outputId": "60b3563b-f96c-452f-9f16-25a22c8ef766",
        "colab": {}
      },
      "source": [
        "dic = {'name':'uhhyunjoo', 'age':23, 'height':168.1}\n",
        "dic.keys()\n",
        "# a.keys()는 딕셔너리 a의 key만을 모아서 dict_keys 객체를 돌려준다."
      ],
      "execution_count": 0,
      "outputs": [
        {
          "output_type": "execute_result",
          "data": {
            "text/plain": [
              "dict_keys(['name', 'age', 'height'])"
            ]
          },
          "metadata": {
            "tags": []
          },
          "execution_count": 76
        }
      ]
    },
    {
      "cell_type": "code",
      "metadata": {
        "id": "CPXPtX0b88jW",
        "colab_type": "code",
        "outputId": "cd94175d-8a46-49f5-dc81-cbf79742b2d1",
        "colab": {}
      },
      "source": [
        "dic.values()"
      ],
      "execution_count": 0,
      "outputs": [
        {
          "output_type": "execute_result",
          "data": {
            "text/plain": [
              "dict_values(['uhhyunjoo', 23, 168.1])"
            ]
          },
          "metadata": {
            "tags": []
          },
          "execution_count": 55
        }
      ]
    },
    {
      "cell_type": "code",
      "metadata": {
        "id": "iaL6UXC388jY",
        "colab_type": "code",
        "outputId": "b3a6637d-12a4-4259-9c85-7684b3bc0b01",
        "colab": {}
      },
      "source": [
        "for i in dic.keys():\n",
        "    print(i)"
      ],
      "execution_count": 0,
      "outputs": [
        {
          "output_type": "stream",
          "text": [
            "name\n",
            "age\n",
            "height\n"
          ],
          "name": "stdout"
        }
      ]
    },
    {
      "cell_type": "code",
      "metadata": {
        "id": "MB4K4xUy88ja",
        "colab_type": "code",
        "outputId": "1fffc016-a655-457c-9ed3-ee73c4f67744",
        "colab": {}
      },
      "source": [
        "del list\n",
        "list()\n",
        "# 아 미친 이제 되네;;;\n",
        "list(dic.keys())\n",
        "# 왜 안되냐 악악악"
      ],
      "execution_count": 0,
      "outputs": [
        {
          "output_type": "execute_result",
          "data": {
            "text/plain": [
              "[1, 2]"
            ]
          },
          "metadata": {
            "tags": []
          },
          "execution_count": 69
        }
      ]
    },
    {
      "cell_type": "code",
      "metadata": {
        "id": "Zu72y24O88jb",
        "colab_type": "code",
        "outputId": "69578f1b-7851-4527-b7d2-3c162a725ab8",
        "colab": {}
      },
      "source": [
        "print(dic.get('name'))"
      ],
      "execution_count": 0,
      "outputs": [
        {
          "output_type": "stream",
          "text": [
            "uhhyunjoo\n"
          ],
          "name": "stdout"
        }
      ]
    },
    {
      "cell_type": "code",
      "metadata": {
        "id": "r5fSNHKN88jd",
        "colab_type": "code",
        "outputId": "856ef8b9-9a54-4ac0-aa34-a86499d8af99",
        "colab": {}
      },
      "source": [
        "print(dic.get('nokey'))\n",
        "# 얘는 None을 돌려주고"
      ],
      "execution_count": 0,
      "outputs": [
        {
          "output_type": "stream",
          "text": [
            "None\n"
          ],
          "name": "stdout"
        }
      ]
    },
    {
      "cell_type": "code",
      "metadata": {
        "id": "2FgMs4rn88jf",
        "colab_type": "code",
        "outputId": "92542e09-2fdb-4419-cb9b-b784431f57b5",
        "colab": {}
      },
      "source": [
        "print(dic['nokey'])\n",
        "# 얘는 KeyError를 돌려준다."
      ],
      "execution_count": 0,
      "outputs": [
        {
          "output_type": "error",
          "ename": "KeyError",
          "evalue": "'nokey'",
          "traceback": [
            "\u001b[1;31m---------------------------------------------------------------------------\u001b[0m",
            "\u001b[1;31mKeyError\u001b[0m                                  Traceback (most recent call last)",
            "\u001b[1;32m<ipython-input-82-a92dcb174b88>\u001b[0m in \u001b[0;36m<module>\u001b[1;34m\u001b[0m\n\u001b[1;32m----> 1\u001b[1;33m \u001b[0mprint\u001b[0m\u001b[1;33m(\u001b[0m\u001b[0mdic\u001b[0m\u001b[1;33m[\u001b[0m\u001b[1;34m'nokey'\u001b[0m\u001b[1;33m]\u001b[0m\u001b[1;33m)\u001b[0m\u001b[1;33m\u001b[0m\u001b[1;33m\u001b[0m\u001b[0m\n\u001b[0m",
            "\u001b[1;31mKeyError\u001b[0m: 'nokey'"
          ]
        }
      ]
    },
    {
      "cell_type": "code",
      "metadata": {
        "id": "wtsCRu_f88ji",
        "colab_type": "code",
        "outputId": "0d3626c2-ef31-4e96-aaae-33d2e1deb147",
        "colab": {}
      },
      "source": [
        "dic.get('name', 'default')"
      ],
      "execution_count": 0,
      "outputs": [
        {
          "output_type": "execute_result",
          "data": {
            "text/plain": [
              "'uhhyunjoo'"
            ]
          },
          "metadata": {
            "tags": []
          },
          "execution_count": 83
        }
      ]
    },
    {
      "cell_type": "code",
      "metadata": {
        "id": "9p-J6viQ88jk",
        "colab_type": "code",
        "outputId": "90dc0f0b-16a7-4372-e064-2db9006a83c7",
        "colab": {}
      },
      "source": [
        "dic.get('nokey', 'default')\n",
        "# a.get('key', 'default') : 딕셔너리 a에 key값이 없으면 default를 돌려준다."
      ],
      "execution_count": 0,
      "outputs": [
        {
          "output_type": "execute_result",
          "data": {
            "text/plain": [
              "'default'"
            ]
          },
          "metadata": {
            "tags": []
          },
          "execution_count": 84
        }
      ]
    },
    {
      "cell_type": "code",
      "metadata": {
        "id": "3T_n2qH288jm",
        "colab_type": "code",
        "outputId": "185c66aa-75f6-4d21-c468-65ee32ccc0e3",
        "colab": {}
      },
      "source": [
        "'name' in dic"
      ],
      "execution_count": 0,
      "outputs": [
        {
          "output_type": "execute_result",
          "data": {
            "text/plain": [
              "True"
            ]
          },
          "metadata": {
            "tags": []
          },
          "execution_count": 86
        }
      ]
    },
    {
      "cell_type": "code",
      "metadata": {
        "id": "LeTogInN88jo",
        "colab_type": "code",
        "outputId": "93b8b13f-857f-402a-a76e-957f0ba13e09",
        "colab": {}
      },
      "source": [
        "'nokey' in dic"
      ],
      "execution_count": 0,
      "outputs": [
        {
          "output_type": "execute_result",
          "data": {
            "text/plain": [
              "False"
            ]
          },
          "metadata": {
            "tags": []
          },
          "execution_count": 87
        }
      ]
    },
    {
      "cell_type": "markdown",
      "metadata": {
        "id": "7wOMyaS388jq",
        "colab_type": "text"
      },
      "source": [
        "## 리스트에서 ':'는 어떻게 쓰는 걸까"
      ]
    },
    {
      "cell_type": "code",
      "metadata": {
        "id": "KLAk_YFZ88jq",
        "colab_type": "code",
        "outputId": "61310008-e180-4dba-a4e3-3a873e220648",
        "colab": {}
      },
      "source": [
        "a = [0,1,2,3,4,5,6,7,8,9,10]\n",
        "b = a[:3]\n",
        "b"
      ],
      "execution_count": 0,
      "outputs": [
        {
          "output_type": "execute_result",
          "data": {
            "text/plain": [
              "[0, 1, 2]"
            ]
          },
          "metadata": {
            "tags": []
          },
          "execution_count": 99
        }
      ]
    },
    {
      "cell_type": "code",
      "metadata": {
        "id": "WHcBbB5788js",
        "colab_type": "code",
        "outputId": "e68413d9-d54d-40ac-bf9e-d54a89e63b8d",
        "colab": {}
      },
      "source": [
        "c = a[3:]\n",
        "c"
      ],
      "execution_count": 0,
      "outputs": [
        {
          "output_type": "execute_result",
          "data": {
            "text/plain": [
              "[3, 4, 5, 6, 7, 8, 9, 10]"
            ]
          },
          "metadata": {
            "tags": []
          },
          "execution_count": 100
        }
      ]
    },
    {
      "cell_type": "markdown",
      "metadata": {
        "id": "WmLPJI7n88jt",
        "colab_type": "text"
      },
      "source": [
        "* b = a[i:j]라고 할때, b에는 a에서 index값이 i이상, j 미만인 친구들이 들어간다.\n",
        "* b = a[:j]라고 하면, index값이 0 이상, j 미만\n",
        "* b = a[i:]라고 하면, index값이 j이상 (+끝까지)"
      ]
    },
    {
      "cell_type": "markdown",
      "metadata": {
        "id": "7GbGFe9S9FNV",
        "colab_type": "text"
      },
      "source": [
        "# % 으로 포맷팅하기"
      ]
    },
    {
      "cell_type": "code",
      "metadata": {
        "id": "zac3l1lm97CT",
        "colab_type": "code",
        "outputId": "63769ee3-92a4-4286-d8f4-376f2a74af39",
        "colab": {
          "base_uri": "https://localhost:8080/",
          "height": 35
        }
      },
      "source": [
        "print(\"integer : %d, string : %s, float: %f\" % (100, \"hello\", 1.23))"
      ],
      "execution_count": 0,
      "outputs": [
        {
          "output_type": "stream",
          "text": [
            "integer : 100, string : hello, float: 1.230000\n"
          ],
          "name": "stdout"
        }
      ]
    },
    {
      "cell_type": "code",
      "metadata": {
        "id": "AuY9ASG4-z9I",
        "colab_type": "code",
        "outputId": "ae4d9baa-d154-4261-ed3b-17c7e03cec23",
        "colab": {
          "base_uri": "https://localhost:8080/",
          "height": 35
        }
      },
      "source": [
        "print(\"My name is %s\" % \"uhhyunjoo\")"
      ],
      "execution_count": 0,
      "outputs": [
        {
          "output_type": "stream",
          "text": [
            "My name is uhhyunjoo\n"
          ],
          "name": "stdout"
        }
      ]
    },
    {
      "cell_type": "code",
      "metadata": {
        "id": "5lldItFd-68b",
        "colab_type": "code",
        "outputId": "935cea04-67f7-45ec-b629-061198b2cdaa",
        "colab": {
          "base_uri": "https://localhost:8080/",
          "height": 35
        }
      },
      "source": [
        "print(\"My name is [%6s]\" % \"a\") # 숫자 만큼 공간을 확보한다."
      ],
      "execution_count": 0,
      "outputs": [
        {
          "output_type": "stream",
          "text": [
            "My name is [     a]\n"
          ],
          "name": "stdout"
        }
      ]
    },
    {
      "cell_type": "code",
      "metadata": {
        "id": "zUvcB3aQ_OTC",
        "colab_type": "code",
        "outputId": "308a910a-6c37-44d5-a513-3a4e4e2f654a",
        "colab": {
          "base_uri": "https://localhost:8080/",
          "height": 35
        }
      },
      "source": [
        "print(\"My name is [%6s]\" % \"aaaaaaaaaaaaaaaaaaa\") # 넘어도 상관x"
      ],
      "execution_count": 0,
      "outputs": [
        {
          "output_type": "stream",
          "text": [
            "My name is [aaaaaaaaaaaaaaaaaaa]\n"
          ],
          "name": "stdout"
        }
      ]
    },
    {
      "cell_type": "code",
      "metadata": {
        "id": "so_3PLrl_Z1Q",
        "colab_type": "code",
        "outputId": "bbe1692f-1f5f-4384-a609-f93282cf7184",
        "colab": {
          "base_uri": "https://localhost:8080/",
          "height": 71
        }
      },
      "source": [
        "print(\"integer : %d\" % 1234)\n",
        "print(\"integer : %04d\" % 1234)\n",
        "print(\"integer : %08d\" % 1234)"
      ],
      "execution_count": 0,
      "outputs": [
        {
          "output_type": "stream",
          "text": [
            "integer : 1234\n",
            "integer : 1234\n",
            "integer : 00001234\n"
          ],
          "name": "stdout"
        }
      ]
    },
    {
      "cell_type": "markdown",
      "metadata": {
        "id": "Qig3ac3H_kcw",
        "colab_type": "text"
      },
      "source": [
        "# format 으로 포맷팅하기"
      ]
    },
    {
      "cell_type": "code",
      "metadata": {
        "id": "i2pL6eIW_uhs",
        "colab_type": "code",
        "outputId": "45006de4-92f0-49f3-992a-4450187eeaf8",
        "colab": {
          "base_uri": "https://localhost:8080/",
          "height": 35
        }
      },
      "source": [
        "print(\"integer : {}, string : {}, float: {}\".format(123, \"hello\", 1.234))"
      ],
      "execution_count": 0,
      "outputs": [
        {
          "output_type": "stream",
          "text": [
            "integer : 123, string : hello, float: 1.234\n"
          ],
          "name": "stdout"
        }
      ]
    },
    {
      "cell_type": "code",
      "metadata": {
        "id": "o4qBOv3S_94_",
        "colab_type": "code",
        "outputId": "ba3a6795-5eaa-4ec6-ae38-28656f7b2e04",
        "colab": {
          "base_uri": "https://localhost:8080/",
          "height": 35
        }
      },
      "source": [
        "print(\"integer : {0}, string : {1}, float: {2}\".format(123, \"hello\", 1.234))"
      ],
      "execution_count": 0,
      "outputs": [
        {
          "output_type": "stream",
          "text": [
            "integer : 123, string : hello, float: 1.234\n"
          ],
          "name": "stdout"
        }
      ]
    },
    {
      "cell_type": "code",
      "metadata": {
        "id": "gASvmbfSAB0R",
        "colab_type": "code",
        "outputId": "a4ddb05e-4a1f-4e75-ae9e-96796f441da7",
        "colab": {
          "base_uri": "https://localhost:8080/",
          "height": 35
        }
      },
      "source": [
        "print(\"integer : {1}, string : {2}, float: {0}\".format(123, \"hello\", 1.234))"
      ],
      "execution_count": 0,
      "outputs": [
        {
          "output_type": "stream",
          "text": [
            "integer : hello, string : 1.234, float: 123\n"
          ],
          "name": "stdout"
        }
      ]
    },
    {
      "cell_type": "code",
      "metadata": {
        "id": "yyLDqfVjWaMJ",
        "colab_type": "code",
        "outputId": "d85aea19-8995-43b2-c5ae-2eec0a72a6d6",
        "colab": {
          "base_uri": "https://localhost:8080/",
          "height": 197
        }
      },
      "source": [
        "fnames = ['cat.{}.jpg'.format(i) for i in range(10)]\n",
        "fnames"
      ],
      "execution_count": 0,
      "outputs": [
        {
          "output_type": "execute_result",
          "data": {
            "text/plain": [
              "['cat.0.jpg',\n",
              " 'cat.1.jpg',\n",
              " 'cat.2.jpg',\n",
              " 'cat.3.jpg',\n",
              " 'cat.4.jpg',\n",
              " 'cat.5.jpg',\n",
              " 'cat.6.jpg',\n",
              " 'cat.7.jpg',\n",
              " 'cat.8.jpg',\n",
              " 'cat.9.jpg']"
            ]
          },
          "metadata": {
            "tags": []
          },
          "execution_count": 5
        }
      ]
    },
    {
      "cell_type": "markdown",
      "metadata": {
        "id": "D1X4tBmCMaTu",
        "colab_type": "text"
      },
      "source": [
        "# List comprehensions"
      ]
    },
    {
      "cell_type": "code",
      "metadata": {
        "id": "yISg4-9oMiB_",
        "colab_type": "code",
        "colab": {
          "base_uri": "https://localhost:8080/",
          "height": 35
        },
        "outputId": "32c04e32-3351-47ef-c457-e3820da5e508"
      },
      "source": [
        "result = []\n",
        "for i in range(10):\n",
        "  result.append(i)\n",
        "\n",
        "print(result)"
      ],
      "execution_count": 1,
      "outputs": [
        {
          "output_type": "stream",
          "text": [
            "[0, 1, 2, 3, 4, 5, 6, 7, 8, 9]\n"
          ],
          "name": "stdout"
        }
      ]
    },
    {
      "cell_type": "code",
      "metadata": {
        "id": "5zxR6B5kNPXr",
        "colab_type": "code",
        "colab": {
          "base_uri": "https://localhost:8080/",
          "height": 35
        },
        "outputId": "24c3348e-873c-4011-f047-557f5cf01678"
      },
      "source": [
        "result = [i for i in range(10)]\n",
        "print(result)"
      ],
      "execution_count": 3,
      "outputs": [
        {
          "output_type": "stream",
          "text": [
            "[0, 1, 2, 3, 4, 5, 6, 7, 8, 9]\n"
          ],
          "name": "stdout"
        }
      ]
    },
    {
      "cell_type": "code",
      "metadata": {
        "id": "3pJhkZ32NYJa",
        "colab_type": "code",
        "colab": {
          "base_uri": "https://localhost:8080/",
          "height": 35
        },
        "outputId": "34f86ded-be23-42c7-a243-a711adc05646"
      },
      "source": [
        "result = [i for i in range(10) if i%2 == 0]\n",
        "print(result)"
      ],
      "execution_count": 4,
      "outputs": [
        {
          "output_type": "stream",
          "text": [
            "[0, 2, 4, 6, 8]\n"
          ],
          "name": "stdout"
        }
      ]
    },
    {
      "cell_type": "code",
      "metadata": {
        "id": "uQ9LrXvpNe8-",
        "colab_type": "code",
        "colab": {
          "base_uri": "https://localhost:8080/",
          "height": 55
        },
        "outputId": "c6b697f8-29d0-4f0e-bdfd-be3b37bafec2"
      },
      "source": [
        "a = \"Helllo\"\n",
        "b = \"World\"\n",
        "result = [i+j for i in a for j in b]\n",
        "print(result)"
      ],
      "execution_count": 5,
      "outputs": [
        {
          "output_type": "stream",
          "text": [
            "['HW', 'Ho', 'Hr', 'Hl', 'Hd', 'eW', 'eo', 'er', 'el', 'ed', 'lW', 'lo', 'lr', 'll', 'ld', 'lW', 'lo', 'lr', 'll', 'ld', 'lW', 'lo', 'lr', 'll', 'ld', 'oW', 'oo', 'or', 'ol', 'od']\n"
          ],
          "name": "stdout"
        }
      ]
    },
    {
      "cell_type": "code",
      "metadata": {
        "id": "xw33Aic_Ns6t",
        "colab_type": "code",
        "colab": {
          "base_uri": "https://localhost:8080/",
          "height": 35
        },
        "outputId": "f3cc1b93-1625-4981-bf6d-e3a63d456814"
      },
      "source": [
        "a = [\"A\", \"B\", \"C\"]\n",
        "b = [\"D\", \"E\", \"A\"]\n",
        "result = [i+j for i in a for j in b if not (i==j)]\n",
        "result.sort()\n",
        "print(result)\n"
      ],
      "execution_count": 6,
      "outputs": [
        {
          "output_type": "stream",
          "text": [
            "['AD', 'AE', 'BA', 'BD', 'BE', 'CA', 'CD', 'CE']\n"
          ],
          "name": "stdout"
        }
      ]
    },
    {
      "cell_type": "code",
      "metadata": {
        "id": "0HjphZdDTodj",
        "colab_type": "code",
        "colab": {
          "base_uri": "https://localhost:8080/",
          "height": 251
        },
        "outputId": "ebfe98b7-1f88-4e1e-878a-e917b9b91c52"
      },
      "source": [
        "words = \"It is time of the seasons i just wanna breathe it in\".split()\n",
        "print(words)\n",
        "\n",
        "stuff = [[w.upper(), w.lower(), len(w)] for w in words]\n",
        "for i in stuff:\n",
        "  print(i)"
      ],
      "execution_count": 7,
      "outputs": [
        {
          "output_type": "stream",
          "text": [
            "['It', 'is', 'time', 'of', 'the', 'seasons', 'i', 'just', 'wanna', 'breathe', 'it', 'in']\n",
            "['IT', 'it', 2]\n",
            "['IS', 'is', 2]\n",
            "['TIME', 'time', 4]\n",
            "['OF', 'of', 2]\n",
            "['THE', 'the', 3]\n",
            "['SEASONS', 'seasons', 7]\n",
            "['I', 'i', 1]\n",
            "['JUST', 'just', 4]\n",
            "['WANNA', 'wanna', 5]\n",
            "['BREATHE', 'breathe', 7]\n",
            "['IT', 'it', 2]\n",
            "['IN', 'in', 2]\n"
          ],
          "name": "stdout"
        }
      ]
    },
    {
      "cell_type": "code",
      "metadata": {
        "id": "eicyfvK3WKLf",
        "colab_type": "code",
        "colab": {
          "base_uri": "https://localhost:8080/",
          "height": 71
        },
        "outputId": "40dc18ea-d5b2-4f04-95b8-e1e53f4980aa"
      },
      "source": [
        "for i, v in enumerate(['tic', 'tac', 'toe']):\n",
        "  print (i, v)\n",
        "# i : index\n",
        "# v : value"
      ],
      "execution_count": 8,
      "outputs": [
        {
          "output_type": "stream",
          "text": [
            "0 tic\n",
            "1 tac\n",
            "2 toe\n"
          ],
          "name": "stdout"
        }
      ]
    },
    {
      "cell_type": "code",
      "metadata": {
        "id": "Gfd-mQkLWmDm",
        "colab_type": "code",
        "colab": {
          "base_uri": "https://localhost:8080/",
          "height": 197
        },
        "outputId": "76ec8513-5e6b-4391-c1f4-73b497461f1e"
      },
      "source": [
        "mylist = [\"a\", \"b\", \"c\", \"d\"]\n",
        "list(enumerate(mylist))\n",
        "{i:j for i,j in enumerate('Sejong University is an academic institute located in South Korea.'.split())}\n",
        "# {} : dict type"
      ],
      "execution_count": 12,
      "outputs": [
        {
          "output_type": "execute_result",
          "data": {
            "text/plain": [
              "{0: 'Sejong',\n",
              " 1: 'University',\n",
              " 2: 'is',\n",
              " 3: 'an',\n",
              " 4: 'academic',\n",
              " 5: 'institute',\n",
              " 6: 'located',\n",
              " 7: 'in',\n",
              " 8: 'South',\n",
              " 9: 'Korea.'}"
            ]
          },
          "metadata": {
            "tags": []
          },
          "execution_count": 12
        }
      ]
    },
    {
      "cell_type": "code",
      "metadata": {
        "id": "a4H-vMWSZKEF",
        "colab_type": "code",
        "colab": {
          "base_uri": "https://localhost:8080/",
          "height": 71
        },
        "outputId": "2b8ab6ea-6793-4e56-98d4-99aa1352cbda"
      },
      "source": [
        "alist = ['a1', 'a2', 'a3']\n",
        "blist = ['b1', 'b2', 'b3']\n",
        "for a, b in zip(alist, blist):\n",
        "  print(a,b)"
      ],
      "execution_count": 13,
      "outputs": [
        {
          "output_type": "stream",
          "text": [
            "a1 b1\n",
            "a2 b2\n",
            "a3 b3\n"
          ],
          "name": "stdout"
        }
      ]
    },
    {
      "cell_type": "code",
      "metadata": {
        "id": "boR5rMzbZgyI",
        "colab_type": "code",
        "colab": {
          "base_uri": "https://localhost:8080/",
          "height": 71
        },
        "outputId": "ac87d0cc-2ca8-4303-81af-d149e1377710"
      },
      "source": [
        "a, b, c = zip((1,2,3), (10,20,30), (100,200,300))\n",
        "print(a)\n",
        "print(b)\n",
        "print(c)\n",
        "\n"
      ],
      "execution_count": 22,
      "outputs": [
        {
          "output_type": "stream",
          "text": [
            "(1, 10, 100)\n",
            "(2, 20, 200)\n",
            "(3, 30, 300)\n"
          ],
          "name": "stdout"
        }
      ]
    },
    {
      "cell_type": "code",
      "metadata": {
        "id": "8LoHLaekaR5R",
        "colab_type": "code",
        "colab": {
          "base_uri": "https://localhost:8080/",
          "height": 35
        },
        "outputId": "a741b884-9029-4d08-e676-e94412a1e2af"
      },
      "source": [
        "d = [sum(x) for x in zip((1,2,3), (10,20,30), (100,200,300))]\n",
        "print(d)"
      ],
      "execution_count": 21,
      "outputs": [
        {
          "output_type": "stream",
          "text": [
            "[111, 222, 333]\n"
          ],
          "name": "stdout"
        }
      ]
    },
    {
      "cell_type": "code",
      "metadata": {
        "id": "91KnlhwLaUHn",
        "colab_type": "code",
        "colab": {
          "base_uri": "https://localhost:8080/",
          "height": 71
        },
        "outputId": "29bda7d1-c555-40e4-b385-e4fe334fe7c6"
      },
      "source": [
        "alist = ['a1', 'a2', 'a3']\n",
        "blist = ['b1', 'b2', 'b3']\n",
        "\n",
        "for i, (a,b) in enumerate(zip(alist, blist)):\n",
        "  print (i,a,b)\n"
      ],
      "execution_count": 23,
      "outputs": [
        {
          "output_type": "stream",
          "text": [
            "0 a1 b1\n",
            "1 a2 b2\n",
            "2 a3 b3\n"
          ],
          "name": "stdout"
        }
      ]
    },
    {
      "cell_type": "code",
      "metadata": {
        "id": "4e2A5wqhZa3Z",
        "colab_type": "code",
        "colab": {}
      },
      "source": [
        "# [] : list\n",
        "# {} : dict\n",
        "# () : tuple"
      ],
      "execution_count": 0,
      "outputs": []
    },
    {
      "cell_type": "markdown",
      "metadata": {
        "id": "n3W5ePQda8AU",
        "colab_type": "text"
      },
      "source": [
        "# Lambda\n",
        "* 함수 이름 없이, 함수처럼 쓸 수 있는 익명함수\n",
        "* 수학의 람다 대수에서 유래\n",
        "* 파이썬 3 부터는 권장하지 않는다."
      ]
    },
    {
      "cell_type": "code",
      "metadata": {
        "id": "zjHyn6kVbDW_",
        "colab_type": "code",
        "colab": {
          "base_uri": "https://localhost:8080/",
          "height": 53
        },
        "outputId": "542a8623-a9b1-4a17-e6b8-11230853c87d"
      },
      "source": [
        "# 일반 함수\n",
        "def f(x,y):\n",
        "  return x+y\n",
        "print(f(1,8))\n",
        "\n",
        "# 람다 함수\n",
        "g = lambda x, y : x+y\n",
        "# lambda 인자값 : 리턴\n",
        "print(g(2,3))"
      ],
      "execution_count": 25,
      "outputs": [
        {
          "output_type": "stream",
          "text": [
            "9\n",
            "5\n"
          ],
          "name": "stdout"
        }
      ]
    },
    {
      "cell_type": "markdown",
      "metadata": {
        "id": "nTdquwfOgKzW",
        "colab_type": "text"
      },
      "source": [
        "# Map function\n",
        "* Sequence 자료형 각 element에 동일한 function을 적용\n",
        " * 모두 값이 연속적(sequence)으로 이어져 있는 자료형 : 리스트, 튜플, range, 문자열\n",
        "* map(function_name, list_data)"
      ]
    },
    {
      "cell_type": "code",
      "metadata": {
        "id": "0Gcjt4YtgV85",
        "colab_type": "code",
        "colab": {
          "base_uri": "https://localhost:8080/",
          "height": 35
        },
        "outputId": "7afd6ac3-18da-4946-bc18-8bce93678526"
      },
      "source": [
        "ex = [1,2,3,4,5] # Sequence형 자료형임.\n",
        "f = lambda x : x ** 2\n",
        "print(list(map(f,ex)))\n",
        "# list까지 써줘야 실행된 결과값이 나온다."
      ],
      "execution_count": 27,
      "outputs": [
        {
          "output_type": "stream",
          "text": [
            "[1, 4, 9, 16, 25]\n"
          ],
          "name": "stdout"
        }
      ]
    },
    {
      "cell_type": "code",
      "metadata": {
        "id": "_a_3_PgMhZoh",
        "colab_type": "code",
        "colab": {
          "base_uri": "https://localhost:8080/",
          "height": 35
        },
        "outputId": "50860ea3-b0f2-41a7-abf4-26972368fbdb"
      },
      "source": [
        "ex = [1,2,3,4,5]\n",
        "f = lambda x,y : x+y\n",
        "print(list(map(f,ex,ex)))"
      ],
      "execution_count": 28,
      "outputs": [
        {
          "output_type": "stream",
          "text": [
            "[2, 4, 6, 8, 10]\n"
          ],
          "name": "stdout"
        }
      ]
    },
    {
      "cell_type": "code",
      "metadata": {
        "id": "F7V4VGIyhtct",
        "colab_type": "code",
        "colab": {
          "base_uri": "https://localhost:8080/",
          "height": 35
        },
        "outputId": "6c3262bf-77a5-44e7-9620-e3999039baa9"
      },
      "source": [
        "ex1 = [1,2,3,4,5]\n",
        "ex2 = [10, 20, 30, 40, 50]\n",
        "f = lambda x,y : x+y\n",
        "print(list(map(f,ex1,ex2)))"
      ],
      "execution_count": 30,
      "outputs": [
        {
          "output_type": "stream",
          "text": [
            "[11, 22, 33, 44, 55]\n"
          ],
          "name": "stdout"
        }
      ]
    },
    {
      "cell_type": "code",
      "metadata": {
        "id": "34-nOycMh9OG",
        "colab_type": "code",
        "colab": {
          "base_uri": "https://localhost:8080/",
          "height": 35
        },
        "outputId": "10f54a2c-08c9-42a6-a3c4-245a1f5ee6d6"
      },
      "source": [
        "ex = [1,2,3,4,5]\n",
        "print(list(map(lambda x: x**2 if x% 2 == 0 else x, ex)))"
      ],
      "execution_count": 31,
      "outputs": [
        {
          "output_type": "stream",
          "text": [
            "[1, 4, 3, 16, 5]\n"
          ],
          "name": "stdout"
        }
      ]
    },
    {
      "cell_type": "code",
      "metadata": {
        "id": "XA2L1J0aiIlb",
        "colab_type": "code",
        "colab": {
          "base_uri": "https://localhost:8080/",
          "height": 53
        },
        "outputId": "1d217b13-6cb3-4a9d-f961-24eacf86220f"
      },
      "source": [
        "# 파이썬 3 에서는 lambda나 map 굳이 안쓰고, list comprehension으로 가능\n",
        "ex = [1,2,3,4,5]\n",
        "print([i **2 for i in ex])\n",
        "print([i **2 for i in ex if i%2 == 0])"
      ],
      "execution_count": 42,
      "outputs": [
        {
          "output_type": "stream",
          "text": [
            "[1, 4, 9, 16, 25]\n",
            "[4, 16]\n"
          ],
          "name": "stdout"
        }
      ]
    },
    {
      "cell_type": "markdown",
      "metadata": {
        "id": "2bJH7XR7jXXs",
        "colab_type": "text"
      },
      "source": [
        "# Reduce function\n",
        "* map function과 달리 list에 똑같은 함수를 적용해서 통합"
      ]
    },
    {
      "cell_type": "code",
      "metadata": {
        "id": "D33W1cjvjgEl",
        "colab_type": "code",
        "colab": {
          "base_uri": "https://localhost:8080/",
          "height": 35
        },
        "outputId": "3dc765b7-9b59-45be-afc0-a4cf1f135960"
      },
      "source": [
        "from functools import reduce\n",
        "print(reduce(lambda x, y : x+y, [1,2,3,4,5]))\n",
        "# 1 + 2 = 3\n",
        "# 3 + 3 = 6\n",
        "# 6 + 4 = 10\n",
        "# 10 + 5 = 15\n",
        "# Sequence에서 옆으로 가면서 적용"
      ],
      "execution_count": 44,
      "outputs": [
        {
          "output_type": "stream",
          "text": [
            "15\n"
          ],
          "name": "stdout"
        }
      ]
    },
    {
      "cell_type": "code",
      "metadata": {
        "id": "kCyLGi0_j8pP",
        "colab_type": "code",
        "colab": {
          "base_uri": "https://localhost:8080/",
          "height": 35
        },
        "outputId": "04bdffb8-4b04-44f3-b224-70416a792ff8"
      },
      "source": [
        "def factorial(n):\n",
        "  return reduce(lambda x,y: x*y, range(1, n+1))\n",
        "\n",
        "factorial(3)"
      ],
      "execution_count": 45,
      "outputs": [
        {
          "output_type": "execute_result",
          "data": {
            "text/plain": [
              "6"
            ]
          },
          "metadata": {
            "tags": []
          },
          "execution_count": 45
        }
      ]
    },
    {
      "cell_type": "markdown",
      "metadata": {
        "id": "uM_EdNHskopG",
        "colab_type": "text"
      },
      "source": [
        "# Asterisk\n",
        "* 흔히 알고 있는 *를 의미함\n",
        "* 단순 곱셈, 제곱 연산, 가변 인자 활용 등 다양한 게 사용됨.\n"
      ]
    },
    {
      "cell_type": "code",
      "metadata": {
        "id": "_N5VcNw0lGyk",
        "colab_type": "code",
        "colab": {
          "base_uri": "https://localhost:8080/",
          "height": 53
        },
        "outputId": "8ec2928b-8e60-49e7-e4c5-337b7c75c8a7"
      },
      "source": [
        "def asterisk_test(a, *args):\n",
        "  # 첫번째는 a값, 나머지는 *args로 한꺼번에 받아라\n",
        "  print(a, args)\n",
        "  print(type(args))\n",
        "asterisk_test(1,2,3,4,5)\n",
        "# 1은 a에 들어가고\n",
        "# 2,3,4,5 는 *args에 들어간다"
      ],
      "execution_count": 46,
      "outputs": [
        {
          "output_type": "stream",
          "text": [
            "1 (2, 3, 4, 5)\n",
            "<class 'tuple'>\n"
          ],
          "name": "stdout"
        }
      ]
    },
    {
      "cell_type": "code",
      "metadata": {
        "id": "OQV9FnGXmlKh",
        "colab_type": "code",
        "colab": {
          "base_uri": "https://localhost:8080/",
          "height": 53
        },
        "outputId": "cc1d95ad-5b79-4785-aaf6-1d8096c29df9"
      },
      "source": [
        "def a_test(*args):\n",
        "  print(args)\n",
        "  print(type(args))\n",
        "a_test(1,2,3,4)"
      ],
      "execution_count": 47,
      "outputs": [
        {
          "output_type": "stream",
          "text": [
            "(1, 2, 3, 4)\n",
            "<class 'tuple'>\n"
          ],
          "name": "stdout"
        }
      ]
    },
    {
      "cell_type": "code",
      "metadata": {
        "id": "Evh5Gf2Nm8Qo",
        "colab_type": "code",
        "colab": {
          "base_uri": "https://localhost:8080/",
          "height": 53
        },
        "outputId": "d3833be9-950a-4870-ed9f-d0683410e758"
      },
      "source": [
        "def a_test(a, **kargs):\n",
        "  print(a, kargs)\n",
        "  print(type(kargs))\n",
        "\n",
        "# b = 2 : 이걸 keyword 인자라고 하는데, ** 로 넘겨준다. dict type으로 들어간다.\n",
        "a_test(1, b=2, c=3, d=4, e=5, f=6)"
      ],
      "execution_count": 48,
      "outputs": [
        {
          "output_type": "stream",
          "text": [
            "1 {'b': 2, 'c': 3, 'd': 4, 'e': 5, 'f': 6}\n",
            "<class 'dict'>\n"
          ],
          "name": "stdout"
        }
      ]
    },
    {
      "cell_type": "code",
      "metadata": {
        "id": "4Ny0ZttCnUj-",
        "colab_type": "code",
        "colab": {
          "base_uri": "https://localhost:8080/",
          "height": 35
        },
        "outputId": "aaa1c975-0670-4d33-ddeb-059dc28c381b"
      },
      "source": [
        "def a_test(**kargs):\n",
        "  print(kargs)\n",
        "a_test(a= 1, b =2, c= 3, d=4)"
      ],
      "execution_count": 49,
      "outputs": [
        {
          "output_type": "stream",
          "text": [
            "{'a': 1, 'b': 2, 'c': 3, 'd': 4}\n"
          ],
          "name": "stdout"
        }
      ]
    },
    {
      "cell_type": "code",
      "metadata": {
        "id": "rAOgieyxoRed",
        "colab_type": "code",
        "colab": {
          "base_uri": "https://localhost:8080/",
          "height": 53
        },
        "outputId": "20ffc571-e43a-4ced-ef2e-32e9e9078e8e"
      },
      "source": [
        "def a_test(a, *args): # 2~5를 튜플로 받겠다\n",
        "  print(a, args) # 그리고 그 튜플을 그대로 출력\n",
        "  print(type(args))\n",
        "a_test(1,2,3,4,5)"
      ],
      "execution_count": 55,
      "outputs": [
        {
          "output_type": "stream",
          "text": [
            "1 (2, 3, 4, 5)\n",
            "<class 'tuple'>\n"
          ],
          "name": "stdout"
        }
      ]
    },
    {
      "cell_type": "code",
      "metadata": {
        "id": "HmX3g8iepHGp",
        "colab_type": "code",
        "colab": {
          "base_uri": "https://localhost:8080/",
          "height": 53
        },
        "outputId": "65b028f8-c6cd-4527-ae19-0ff6130a8fc0"
      },
      "source": [
        "def a_test(a, args): #2~5를 튜플형태로 받겠다\n",
        "  print(a, *args) # 그리고 언팩킹해서 그 값을 출력\n",
        "  print(type(args))\n",
        "a_test(1,(2,3,4,5))"
      ],
      "execution_count": 57,
      "outputs": [
        {
          "output_type": "stream",
          "text": [
            "1 2 3 4 5\n",
            "<class 'tuple'>\n"
          ],
          "name": "stdout"
        }
      ]
    },
    {
      "cell_type": "code",
      "metadata": {
        "id": "7V6R7UdLqa_n",
        "colab_type": "code",
        "colab": {
          "base_uri": "https://localhost:8080/",
          "height": 35
        },
        "outputId": "726843d4-0794-4835-fd1e-71a2c98aa3b5"
      },
      "source": [
        "a,b,c = ([1,2],[3,4],[5,6])\n",
        "print(a,b,c)"
      ],
      "execution_count": 60,
      "outputs": [
        {
          "output_type": "stream",
          "text": [
            "[1, 2] [3, 4] [5, 6]\n"
          ],
          "name": "stdout"
        }
      ]
    },
    {
      "cell_type": "code",
      "metadata": {
        "id": "uqtVZj6Kqioo",
        "colab_type": "code",
        "colab": {
          "base_uri": "https://localhost:8080/",
          "height": 35
        },
        "outputId": "215a846a-fa51-45cc-cdd9-b41b51d78ebb"
      },
      "source": [
        "data = ([1,2], [3,4], [5,6])\n",
        "print(*data)"
      ],
      "execution_count": 61,
      "outputs": [
        {
          "output_type": "stream",
          "text": [
            "[1, 2] [3, 4] [5, 6]\n"
          ],
          "name": "stdout"
        }
      ]
    },
    {
      "cell_type": "code",
      "metadata": {
        "id": "S38qvzOaqpgk",
        "colab_type": "code",
        "colab": {
          "base_uri": "https://localhost:8080/",
          "height": 71
        },
        "outputId": "605c309a-a920-47c0-c5cc-009e3a22368d"
      },
      "source": [
        "def a_test(a,b,c,d):\n",
        "  print(a,b,c,d)\n",
        "data = {\"b\":1, \"c\":2, \"d\":3}\n",
        "a_test(10, **data) # keyword 인자 상태인 data 넣기\n",
        "print(data)"
      ],
      "execution_count": 67,
      "outputs": [
        {
          "output_type": "stream",
          "text": [
            "10 1 2 3\n",
            "{'b': 1, 'c': 2, 'd': 3}\n",
            "b c d\n"
          ],
          "name": "stdout"
        }
      ]
    },
    {
      "cell_type": "code",
      "metadata": {
        "id": "xjPQSKxbrQlF",
        "colab_type": "code",
        "colab": {
          "base_uri": "https://localhost:8080/",
          "height": 53
        },
        "outputId": "084480a2-4c9b-42b7-9bc8-54c4194312c7"
      },
      "source": [
        "for data in zip(*([1,2],[3,4],[5,6])):\n",
        "  print(data)"
      ],
      "execution_count": 69,
      "outputs": [
        {
          "output_type": "stream",
          "text": [
            "(1, 3, 5)\n",
            "(2, 4, 6)\n"
          ],
          "name": "stdout"
        }
      ]
    },
    {
      "cell_type": "code",
      "metadata": {
        "id": "WAhxdTFQrpW_",
        "colab_type": "code",
        "colab": {
          "base_uri": "https://localhost:8080/",
          "height": 53
        },
        "outputId": "64e8b7b9-add5-481c-e1ba-a69114af45ae"
      },
      "source": [
        "for data in zip(*([1,2],[3,4],[5,6])):\n",
        "  print(sum(data))"
      ],
      "execution_count": 70,
      "outputs": [
        {
          "output_type": "stream",
          "text": [
            "9\n",
            "12\n"
          ],
          "name": "stdout"
        }
      ]
    },
    {
      "cell_type": "code",
      "metadata": {
        "id": "a8DH_ei4rvE7",
        "colab_type": "code",
        "colab": {
          "base_uri": "https://localhost:8080/",
          "height": 35
        },
        "outputId": "6df83aaa-ea05-431a-8cdb-f5c7ef2ed0f7"
      },
      "source": [
        "def a_test (a,b,c,d,e=2,f=1):\n",
        "  print(a,b,c,d,e,f)\n",
        "\n",
        "data ={\"b\":1, \"c\":2, \"d\":3}\n",
        "\n",
        "a_test(100,**data)"
      ],
      "execution_count": 80,
      "outputs": [
        {
          "output_type": "stream",
          "text": [
            "100 1 2 3 2 1\n"
          ],
          "name": "stdout"
        }
      ]
    },
    {
      "cell_type": "markdown",
      "metadata": {
        "id": "jliyXWm4s_G_",
        "colab_type": "text"
      },
      "source": [
        "# Data Structure - Collections\n",
        "* list, tuple, dict 에 대한 python built-in 확장 자료 구조 (모듈)"
      ]
    },
    {
      "cell_type": "code",
      "metadata": {
        "id": "gsm6UhMZtI7s",
        "colab_type": "code",
        "colab": {}
      },
      "source": [
        "from collections import deque # stack 과 queue를 지원하는 모듈\n",
        "from collections import Counter\n",
        "from collections import OrderedDict\n",
        "from collections import defaultdict\n",
        "from collections import namedtuple"
      ],
      "execution_count": 0,
      "outputs": []
    },
    {
      "cell_type": "code",
      "metadata": {
        "id": "pXdSIR7ntiw4",
        "colab_type": "code",
        "colab": {
          "base_uri": "https://localhost:8080/",
          "height": 143
        },
        "outputId": "f5af70c8-9d61-4886-eb16-700ea5d6c9a1"
      },
      "source": [
        "from collections import deque # stack 과 queue를 지원하는 모듈\n",
        "deque_list = deque()\n",
        "for i in range(5):\n",
        "  deque_list.append(i)\n",
        "print(deque_list)\n",
        "\n",
        "deque_list.appendleft(10)\n",
        "deque_list.append(20) #append가 appendright임,,\n",
        "print(deque_list)\n",
        "\n",
        "deque_list.rotate(1)\n",
        "print(deque_list)\n",
        "deque_list.rotate(2)\n",
        "print(deque_list)\n",
        "deque_list.extend([3,4,5])\n",
        "print(deque_list)\n",
        "deque_list.extendleft([2,1])\n",
        "print(deque_list)\n",
        "\n",
        "print(deque(reversed(deque_list)))"
      ],
      "execution_count": 92,
      "outputs": [
        {
          "output_type": "stream",
          "text": [
            "deque([0, 1, 2, 3, 4])\n",
            "deque([10, 0, 1, 2, 3, 4, 20])\n",
            "deque([20, 10, 0, 1, 2, 3, 4])\n",
            "deque([3, 4, 20, 10, 0, 1, 2])\n",
            "deque([3, 4, 20, 10, 0, 1, 2, 3, 4, 5])\n",
            "deque([1, 2, 3, 4, 20, 10, 0, 1, 2, 3, 4, 5])\n",
            "deque([5, 4, 3, 2, 1, 0, 10, 20, 4, 3, 2, 1])\n"
          ],
          "name": "stdout"
        }
      ]
    },
    {
      "cell_type": "code",
      "metadata": {
        "id": "AurW8NGDut0K",
        "colab_type": "code",
        "colab": {
          "base_uri": "https://localhost:8080/",
          "height": 35
        },
        "outputId": "e7429bbe-095e-4881-8c12-d598cf366038"
      },
      "source": [
        "from collections import deque\n",
        "import time\n",
        "\n",
        "start_time = time.clock()\n",
        "deque_list = deque()\n",
        "# Stack\n",
        "for i in range(10000):\n",
        "  for i in range(10000):\n",
        "    deque_list.append(i)\n",
        "    deque_list.pop()\n",
        "print(time.clock() - start_time, \"seconds\")"
      ],
      "execution_count": 94,
      "outputs": [
        {
          "output_type": "stream",
          "text": [
            "16.103581 seconds\n"
          ],
          "name": "stdout"
        }
      ]
    },
    {
      "cell_type": "code",
      "metadata": {
        "id": "ZWqRWacDvQ3m",
        "colab_type": "code",
        "colab": {
          "base_uri": "https://localhost:8080/",
          "height": 35
        },
        "outputId": "091c8a8c-e846-4c8c-8106-1fd5b44c8d10"
      },
      "source": [
        "start_time = time.clock()\n",
        "just_list = []\n",
        "for i in range(10000):\n",
        "  for i in range(10000):\n",
        "    just_list.append(i)\n",
        "    just_list.pop()\n",
        "print(time.clock() - start_time, \"seconds\")"
      ],
      "execution_count": 95,
      "outputs": [
        {
          "output_type": "stream",
          "text": [
            "26.182239000000003 seconds\n"
          ],
          "name": "stdout"
        }
      ]
    },
    {
      "cell_type": "markdown",
      "metadata": {
        "id": "RmsEuyi5vsDB",
        "colab_type": "text"
      },
      "source": [
        "list보다 deque가 더 빠르다"
      ]
    },
    {
      "cell_type": "code",
      "metadata": {
        "id": "EBEnT5P4vvJN",
        "colab_type": "code",
        "colab": {
          "base_uri": "https://localhost:8080/",
          "height": 161
        },
        "outputId": "c070ef4d-dc1c-4e29-a853-6e3fbbc5f577"
      },
      "source": [
        "d = {}\n",
        "d['b'] = 100\n",
        "d['c'] = 200\n",
        "d['d'] = 300\n",
        "d['a'] = 0\n",
        "d['x'] = 10\n",
        "d['y'] = 20\n",
        "d['z'] = 30\n",
        "d['l'] = 50\n",
        "# 모르겠고 원래 순서대로 안되나봐\n",
        "for k, v in d.items():\n",
        "  print(k,v)"
      ],
      "execution_count": 98,
      "outputs": [
        {
          "output_type": "stream",
          "text": [
            "b 100\n",
            "c 200\n",
            "d 300\n",
            "a 0\n",
            "x 10\n",
            "y 20\n",
            "z 30\n",
            "l 50\n"
          ],
          "name": "stdout"
        }
      ]
    },
    {
      "cell_type": "code",
      "metadata": {
        "id": "jJb2cYxkwgmo",
        "colab_type": "code",
        "colab": {
          "base_uri": "https://localhost:8080/",
          "height": 89
        },
        "outputId": "b9940abe-dbfb-42f3-920b-937c8cd87b0a"
      },
      "source": [
        "from collections import OrderedDict\n",
        "d = OrderedDict()\n",
        "d['x'] = 10\n",
        "d['y'] = 20\n",
        "d['z'] = 30\n",
        "d['l'] = 50\n",
        "for k, v in d.items():\n",
        "  print(k,v)"
      ],
      "execution_count": 100,
      "outputs": [
        {
          "output_type": "stream",
          "text": [
            "x 10\n",
            "y 20\n",
            "z 30\n",
            "l 50\n"
          ],
          "name": "stdout"
        }
      ]
    },
    {
      "cell_type": "code",
      "metadata": {
        "id": "jGRb4Sw5w1Pt",
        "colab_type": "code",
        "colab": {
          "base_uri": "https://localhost:8080/",
          "height": 89
        },
        "outputId": "1b3eac3b-5d8f-4cad-88d9-231de6765ada"
      },
      "source": [
        "for k,v in OrderedDict(sorted(d.items(), key=lambda t : t[0])).items():\n",
        "  print(k,v)\n",
        "# sorted는 오름차순으로 정렬\n",
        "# t[0] 때문에 l, x, y, x 순으로 정렬"
      ],
      "execution_count": 101,
      "outputs": [
        {
          "output_type": "stream",
          "text": [
            "l 50\n",
            "x 10\n",
            "y 20\n",
            "z 30\n"
          ],
          "name": "stdout"
        }
      ]
    },
    {
      "cell_type": "code",
      "metadata": {
        "id": "3AmmOPKXxOMZ",
        "colab_type": "code",
        "colab": {
          "base_uri": "https://localhost:8080/",
          "height": 89
        },
        "outputId": "a9d681c1-3524-48d8-ff2f-8f4325ecedcc"
      },
      "source": [
        "for k,v in OrderedDict(sorted(d.items(), key=lambda t : t[1])).items():\n",
        "  print(k,v)\n",
        "# sorted는 오름차순으로 정렬\n",
        "# t[1] 때문에 10,20,30,50 순으로 정렬"
      ],
      "execution_count": 102,
      "outputs": [
        {
          "output_type": "stream",
          "text": [
            "x 10\n",
            "y 20\n",
            "z 30\n",
            "l 50\n"
          ],
          "name": "stdout"
        }
      ]
    },
    {
      "cell_type": "code",
      "metadata": {
        "id": "Rytuj-YKxZ1W",
        "colab_type": "code",
        "colab": {}
      },
      "source": [
        "from collections import defaultdict"
      ],
      "execution_count": 0,
      "outputs": []
    }
  ]
}