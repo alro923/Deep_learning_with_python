{
 "cells": [
  {
   "cell_type": "markdown",
   "metadata": {},
   "source": [
    "# 영화 리뷰 분류: 이진 분류 예제\n",
    "\n",
    "## 추가 실험\n",
    "\n",
    "* 교재의 예제에서는 두 개의 은닉층을 사용했습니다. 한 개 또는 세 개의 은닉층을 사용하고 검증과 테스트 정확도에 어떤 영향을 미치는지 확인해 보세요.\n",
    "* 층의 은닉 유닛을 추가하거나 줄여 보세요: 32개 유닛, 64개 유닛 등\n",
    "* `binary_crossentropy` 대신에 `mse` 손실 함수를 사용해 보세요.\n",
    "* `relu` 대신에 `tanh` 활성화 함수(초창기 신경망에서 인기 있었던 함수입니다)를 사용해 보세요.\n",
    "\n",
    "다음 실험을 진행하면 여기에서 선택한 구조가 향상의 여지는 있지만 어느 정도 납득할 만한 수준이라는 것을 알게 것입니다!\n",
    "\n",
    "<i>충분히 납득합니다... 추가 문제에서 내가 선택한 구조는 결과가 너무 잘 안나옴 (구조 선택할 때 뭐가 좋은지 아직 잘 모르겠음)</i>"
   ]
  },
  {
   "cell_type": "code",
   "execution_count": 5,
   "metadata": {},
   "outputs": [
    {
     "data": {
      "text/plain": [
       "'2.3.1'"
      ]
     },
     "execution_count": 5,
     "metadata": {},
     "output_type": "execute_result"
    }
   ],
   "source": [
    "import keras\n",
    "keras.__version__"
   ]
  },
  {
   "cell_type": "code",
   "execution_count": 6,
   "metadata": {},
   "outputs": [],
   "source": [
    "from keras.datasets import imdb\n",
    "(train_data, train_labels), (test_data, test_labels) = imdb.load_data(num_words=10000)"
   ]
  },
  {
   "cell_type": "code",
   "execution_count": 7,
   "metadata": {},
   "outputs": [],
   "source": [
    "# 직접 원-핫 벡터로 만들기\n",
    "# 원-핫 벡터 == 이진 행렬 (이진법처럼 0과1로만 이루어진 행렬이니까)\n",
    "import numpy as np\n",
    "\n",
    "def vectorize_sequences(sequences, dimension=10000):\n",
    "    results = np.zeros((len(sequences), dimension))\n",
    "    for i, sequence in enumerate(sequences):\n",
    "        results[i,sequence] = 1.\n",
    "    return results\n",
    "\n",
    "\n",
    "# 훈련 데이터 벡터로 변환\n",
    "x_train = vectorize_sequences(train_data)\n",
    "# 테스트 데이터 벡터로 변환\n",
    "x_test = vectorize_sequences(test_data)\n",
    "\n",
    "# 훈련 레이블 벡터로 변환\n",
    "y_train = np.asarray(train_labels).astype('float32')\n",
    "# 테스트 레이블 벡터로 변환\n",
    "y_test = np.asarray(test_labels).astype('float32')"
   ]
  },
  {
   "cell_type": "code",
   "execution_count": 8,
   "metadata": {},
   "outputs": [],
   "source": [
    "from keras import models\n",
    "from keras import layers\n",
    "\n",
    "model = models.Sequential()\n",
    "model.add(layers.Dense(64, activation='tanh', input_shape=(10000,)))\n",
    "model.add(layers.Dense(64, activation='tanh'))\n",
    "model.add(layers.Dense(64, activation='tanh'))\n",
    "model.add(layers.Dense(1, activation='sigmoid'))"
   ]
  },
  {
   "cell_type": "code",
   "execution_count": 9,
   "metadata": {},
   "outputs": [],
   "source": [
    "model.compile(optimizer='rmsprop',\n",
    "             loss='mse',\n",
    "             metrics=['acc'])"
   ]
  },
  {
   "cell_type": "code",
   "execution_count": 10,
   "metadata": {},
   "outputs": [],
   "source": [
    "x_val = x_train[:10000]\n",
    "partial_x_train = x_train[10000:]\n",
    "y_val = y_train[:10000]\n",
    "partial_y_train = y_train[10000:]\n",
    "\n",
    "# val = validation = 검증\n",
    "\n",
    "# x_train과 y_train을 훈련 검증 세트 라고 한다."
   ]
  },
  {
   "cell_type": "code",
   "execution_count": 11,
   "metadata": {},
   "outputs": [
    {
     "name": "stdout",
     "output_type": "stream",
     "text": [
      "Train on 15000 samples, validate on 10000 samples\n",
      "Epoch 1/20\n",
      "15000/15000 [==============================] - 2s 148us/step - loss: 0.1528 - acc: 0.7755 - val_loss: 0.0904 - val_acc: 0.8783\n",
      "Epoch 2/20\n",
      "15000/15000 [==============================] - 2s 138us/step - loss: 0.0691 - acc: 0.9081 - val_loss: 0.1148 - val_acc: 0.8444\n",
      "Epoch 3/20\n",
      "15000/15000 [==============================] - 2s 138us/step - loss: 0.0532 - acc: 0.9293 - val_loss: 0.0898 - val_acc: 0.8830\n",
      "Epoch 4/20\n",
      "15000/15000 [==============================] - 2s 135us/step - loss: 0.0403 - acc: 0.9489 - val_loss: 0.0918 - val_acc: 0.8828\n",
      "Epoch 5/20\n",
      "15000/15000 [==============================] - 2s 137us/step - loss: 0.0338 - acc: 0.9573 - val_loss: 0.0957 - val_acc: 0.8809\n",
      "Epoch 6/20\n",
      "15000/15000 [==============================] - 2s 135us/step - loss: 0.0272 - acc: 0.9668 - val_loss: 0.1010 - val_acc: 0.8773\n",
      "Epoch 7/20\n",
      "15000/15000 [==============================] - 2s 133us/step - loss: 0.0253 - acc: 0.9692 - val_loss: 0.1121 - val_acc: 0.8642\n",
      "Epoch 8/20\n",
      "15000/15000 [==============================] - 2s 136us/step - loss: 0.0237 - acc: 0.9715 - val_loss: 0.1085 - val_acc: 0.8733\n",
      "Epoch 9/20\n",
      "15000/15000 [==============================] - 2s 134us/step - loss: 0.0187 - acc: 0.9787 - val_loss: 0.1239 - val_acc: 0.8544\n",
      "Epoch 10/20\n",
      "15000/15000 [==============================] - 2s 133us/step - loss: 0.0164 - acc: 0.9813 - val_loss: 0.1108 - val_acc: 0.8728\n",
      "Epoch 11/20\n",
      "15000/15000 [==============================] - 2s 133us/step - loss: 0.0156 - acc: 0.9825 - val_loss: 0.1129 - val_acc: 0.8702\n",
      "Epoch 12/20\n",
      "15000/15000 [==============================] - 2s 144us/step - loss: 0.0158 - acc: 0.9814 - val_loss: 0.1126 - val_acc: 0.8723\n",
      "Epoch 13/20\n",
      "15000/15000 [==============================] - 2s 151us/step - loss: 0.0140 - acc: 0.9843 - val_loss: 0.1208 - val_acc: 0.8644\n",
      "Epoch 14/20\n",
      "15000/15000 [==============================] - 2s 135us/step - loss: 0.0127 - acc: 0.9855 - val_loss: 0.1245 - val_acc: 0.8599\n",
      "Epoch 15/20\n",
      "15000/15000 [==============================] - 2s 133us/step - loss: 0.0133 - acc: 0.9855 - val_loss: 0.1181 - val_acc: 0.8685\n",
      "Epoch 16/20\n",
      "15000/15000 [==============================] - 2s 134us/step - loss: 0.0073 - acc: 0.9929 - val_loss: 0.1308 - val_acc: 0.8576\n",
      "Epoch 17/20\n",
      "15000/15000 [==============================] - 2s 135us/step - loss: 0.0127 - acc: 0.9858 - val_loss: 0.1213 - val_acc: 0.8650\n",
      "Epoch 18/20\n",
      "15000/15000 [==============================] - 2s 134us/step - loss: 0.0122 - acc: 0.9866 - val_loss: 0.1200 - val_acc: 0.8700\n",
      "Epoch 19/20\n",
      "15000/15000 [==============================] - 2s 136us/step - loss: 0.0108 - acc: 0.9881 - val_loss: 0.1218 - val_acc: 0.8676\n",
      "Epoch 20/20\n",
      "15000/15000 [==============================] - 2s 137us/step - loss: 0.0066 - acc: 0.9933 - val_loss: 0.1292 - val_acc: 0.8596- loss: 0.0063 - acc: 0.9\n"
     ]
    }
   ],
   "source": [
    "history = model.fit(partial_x_train, partial_y_train,\n",
    "                   epochs=20,\n",
    "                   batch_size = 512,\n",
    "                   validation_data = (x_val, y_val))"
   ]
  },
  {
   "cell_type": "code",
   "execution_count": 14,
   "metadata": {},
   "outputs": [
    {
     "data": {
      "image/png": "[encoded data removed]",
      "text/plain": [
       "<Figure size 432x288 with 1 Axes>"
      ]
     },
     "metadata": {
      "needs_background": "light"
     },
     "output_type": "display_data"
    }
   ],
   "source": [
    "# loss : 훈련 손실, 검증 손실 그래프 그리기\n",
    "import matplotlib.pyplot as plt\n",
    "\n",
    "history_dict = history.history\n",
    "loss = history_dict['loss']\n",
    "val_loss = history_dict['val_loss']\n",
    "\n",
    "epochs = range(1, len(loss) +1 ) # len(loss) == 10\n",
    "\n",
    "plt.plot(epochs, loss, 'bo', label='Training loss')\n",
    "plt.plot(epochs, val_loss, 'b', label='Validation loss')\n",
    "plt.title('Training and Validation loss')\n",
    "plt.xlabel('Epochs')\n",
    "plt.ylabel('Loss')\n",
    "plt.legend()\n",
    "\n",
    "plt.show()"
   ]
  },
  {
   "cell_type": "code",
   "execution_count": 15,
   "metadata": {},
   "outputs": [
    {
     "data": {
      "image/png": "[encoded data removed]",
      "text/plain": [
       "<Figure size 432x288 with 1 Axes>"
      ]
     },
     "metadata": {
      "needs_background": "light"
     },
     "output_type": "display_data"
    }
   ],
   "source": [
    "# 일단 그래프 초기화\n",
    "plt.clf()\n",
    "\n",
    "# accuracy : 훈련 정확도, 검증 정확도 그리기\n",
    "\n",
    "# import matplotlib.pyplot as plt\n",
    "# history_dict = history.history\n",
    "\n",
    "acc = history_dict['acc']\n",
    "val_acc = history_dict['val_acc']\n",
    "\n",
    "# epochs = range(1, len(loss) + 1) \n",
    "\n",
    "plt.plot(epochs, acc, 'bo', label='Training acc')\n",
    "plt.plot(epochs, val_acc, 'b', label='Validation acc')\n",
    "plt.title('Training and validation accuracy')\n",
    "plt.xlabel('Epochs')\n",
    "plt.ylabel('Accuracy')\n",
    "plt.legend()\n",
    "\n",
    "plt.show()"
   ]
  },
  {
   "cell_type": "code",
   "execution_count": 16,
   "metadata": {},
   "outputs": [
    {
     "name": "stdout",
     "output_type": "stream",
     "text": [
      "Epoch 1/3\n",
      "25000/25000 [==============================] - 2s 97us/step - loss: 0.1307 - acc: 0.8098\n",
      "Epoch 2/3\n",
      "25000/25000 [==============================] - 2s 90us/step - loss: 0.0671 - acc: 0.9116\n",
      "Epoch 3/3\n",
      "25000/25000 [==============================] - 2s 92us/step - loss: 0.0535 - acc: 0.9308\n",
      "25000/25000 [==============================] - 3s 112us/step\n"
     ]
    }
   ],
   "source": [
    "# 과대적합을 방지하기 위해 모델을 처음부터 다시 훈련한다!\n",
    "model = models.Sequential()\n",
    "model.add(layers.Dense(64, activation='tanh', input_shape=(10000,)))\n",
    "model.add(layers.Dense(64, activation='tanh'))\n",
    "model.add(layers.Dense(64, activation='tanh'))\n",
    "model.add(layers.Dense(1, activation='sigmoid'))\n",
    "\n",
    "model.compile(optimizer='rmsprop',\n",
    "             loss='mse',\n",
    "             metrics=['acc'])\n",
    "\n",
    "model.fit(x_train,y_train, epochs=3, batch_size = 512)\n",
    "results = model.evaluate(x_test, y_test)"
   ]
  },
  {
   "cell_type": "code",
   "execution_count": 17,
   "metadata": {},
   "outputs": [
    {
     "data": {
      "text/plain": [
       "[0.10713184372216462, 0.8591200113296509]"
      ]
     },
     "execution_count": 17,
     "metadata": {},
     "output_type": "execute_result"
    }
   ],
   "source": [
    "results"
   ]
  },
  {
   "cell_type": "markdown",
   "metadata": {},
   "source": [
    "85%의 정확도를 달성했다. (최고 수준의 기법을 사용하면 95%에 가까운 성능을 얻을 수 있다고 한다.)"
   ]
  }
 ],
 "metadata": {
  "kernelspec": {
   "display_name": "Python 3",
   "language": "python",
   "name": "python3"
  },
  "language_info": {
   "codemirror_mode": {
    "name": "ipython",
    "version": 3
   },
   "file_extension": ".py",
   "mimetype": "text/x-python",
   "name": "python",
   "nbconvert_exporter": "python",
   "pygments_lexer": "ipython3",
   "version": "3.6.9"
  }
 },
 "nbformat": 4,
 "nbformat_minor": 2
}
