{
 "cells": [
  {
   "cell_type": "markdown",
   "metadata": {},
   "source": [
    "# 영화 리뷰 분류: 이진 분류 예제\n",
    "\n",
    "## 추가 실험\n",
    "\n",
    "* 교재의 예제에서는 두 개의 은닉층을 사용했습니다. 한 개 또는 세 개의 은닉층을 사용하고 검증과 테스트 정확도에 어떤 영향을 미치는지 확인해 보세요.\n",
    "* 층의 은닉 유닛을 추가하거나 줄여 보세요: 32개 유닛, 64개 유닛 등\n",
    "* `binary_crossentropy` 대신에 `mse` 손실 함수를 사용해 보세요.\n",
    "* `relu` 대신에 `tanh` 활성화 함수(초창기 신경망에서 인기 있었던 함수입니다)를 사용해 보세요.\n",
    "\n",
    "다음 실험을 진행하면 여기에서 선택한 구조가 향상의 여지는 있지만 어느 정도 납득할 만한 수준이라는 것을 알게 것입니다!\n",
    "\n",
    "<i>충분히 납득합니다... 추가 문제에서 내가 선택한 구조는 결과가 너무 잘 안나옴 (구조 선택할 때 뭐가 좋은지 아직 잘 모르겠음)</i>"
   ]
  },
  {
   "cell_type": "code",
   "execution_count": 1,
   "metadata": {},
   "outputs": [
    {
     "name": "stderr",
     "output_type": "stream",
     "text": [
      "C:\\Users\\leehyunjoo\\Anaconda3\\lib\\site-packages\\h5py\\__init__.py:36: FutureWarning: Conversion of the second argument of issubdtype from `float` to `np.floating` is deprecated. In future, it will be treated as `np.float64 == np.dtype(float).type`.\n",
      "  from ._conv import register_converters as _register_converters\n",
      "Using TensorFlow backend.\n"
     ]
    },
    {
     "data": {
      "text/plain": [
       "'2.3.1'"
      ]
     },
     "execution_count": 1,
     "metadata": {},
     "output_type": "execute_result"
    }
   ],
   "source": [
    "import keras\n",
    "keras.__version__"
   ]
  },
  {
   "cell_type": "code",
   "execution_count": 2,
   "metadata": {},
   "outputs": [],
   "source": [
    "from keras.datasets import imdb\n",
    "(train_data, train_labels), (test_data, test_labels) = imdb.load_data(num_words=10000)"
   ]
  },
  {
   "cell_type": "code",
   "execution_count": 16,
   "metadata": {},
   "outputs": [],
   "source": [
    "# 직접 원-핫 벡터로 만들기\n",
    "# 원-핫 벡터 == 이진 행렬 (이진법처럼 0과1로만 이루어진 행렬이니까)\n",
    "import numpy as np\n",
    "\n",
    "def vectorize_sequences(sequences, dimension=10000):\n",
    "    results = np.zeros((len(sequences), dimension))\n",
    "    for i, sequence in enumerate(sequences):\n",
    "        results[i,sequence] = 1.\n",
    "    return results\n",
    "\n",
    "\n",
    "# 훈련 데이터 벡터로 변환\n",
    "x_train = vectorize_sequences(train_data)\n",
    "# 테스트 데이터 벡터로 변환\n",
    "x_test = vectorize_sequences(test_data)\n",
    "\n",
    "# 훈련 레이블 벡터로 변환\n",
    "y_train = np.asarray(train_labels).astype('float32')\n",
    "# 테스트 레이블 벡터로 변환\n",
    "y_test = np.asarray(test_labels).astype('float32')"
   ]
  },
  {
   "cell_type": "code",
   "execution_count": 17,
   "metadata": {},
   "outputs": [],
   "source": [
    "from keras import models\n",
    "from keras import layers\n",
    "\n",
    "model = models.Sequential()\n",
    "model.add(layers.Dense(64, activation='tanh', input_shape=(10000,)))\n",
    "model.add(layers.Dense(64, activation='tanh'))\n",
    "model.add(layers.Dense(64, activation='tanh'))\n",
    "model.add(layers.Dense(1, activation='sigmoid'))"
   ]
  },
  {
   "cell_type": "code",
   "execution_count": 20,
   "metadata": {},
   "outputs": [],
   "source": [
    "model.compile(optimizer='rmsprop',\n",
    "             loss='mse',\n",
    "             metrics=['acc'])"
   ]
  },
  {
   "cell_type": "code",
   "execution_count": 21,
   "metadata": {},
   "outputs": [],
   "source": [
    "x_val = x_train[:10000]\n",
    "partial_x_train = x_train[10000:]\n",
    "y_val = y_train[:10000]\n",
    "partial_y_train = y_train[10000:]\n",
    "\n",
    "# val = validation = 검증\n",
    "\n",
    "# x_train과 y_train을 훈련 검증 세트 라고 한다."
   ]
  },
  {
   "cell_type": "code",
   "execution_count": 28,
   "metadata": {},
   "outputs": [
    {
     "name": "stdout",
     "output_type": "stream",
     "text": [
      "Train on 15000 samples, validate on 10000 samples\n",
      "Epoch 1/10\n",
      "15000/15000 [==============================] - 2s 142us/step - loss: 0.0166 - acc: 0.9813 - val_loss: 0.1108 - val_acc: 0.8728\n",
      "Epoch 2/10\n",
      "15000/15000 [==============================] - 2s 134us/step - loss: 0.0168 - acc: 0.9813 - val_loss: 0.1119 - val_acc: 0.8742\n",
      "Epoch 3/10\n",
      "15000/15000 [==============================] - 2s 133us/step - loss: 0.0102 - acc: 0.9889 - val_loss: 0.1286 - val_acc: 0.8550\n",
      "Epoch 4/10\n",
      "15000/15000 [==============================] - 2s 134us/step - loss: 0.0095 - acc: 0.9901 - val_loss: 0.1402 - val_acc: 0.8466\n",
      "Epoch 5/10\n",
      "15000/15000 [==============================] - 2s 133us/step - loss: 0.0166 - acc: 0.9811 - val_loss: 0.1164 - val_acc: 0.8710\n",
      "Epoch 6/10\n",
      "15000/15000 [==============================] - 2s 133us/step - loss: 0.0109 - acc: 0.9875 - val_loss: 0.1172 - val_acc: 0.8690\n",
      "Epoch 7/10\n",
      "15000/15000 [==============================] - 2s 131us/step - loss: 0.0070 - acc: 0.9929 - val_loss: 0.1218 - val_acc: 0.8666\n",
      "Epoch 8/10\n",
      "15000/15000 [==============================] - 2s 132us/step - loss: 0.0138 - acc: 0.9847 - val_loss: 0.1212 - val_acc: 0.8687\n",
      "Epoch 9/10\n",
      "15000/15000 [==============================] - 2s 134us/step - loss: 0.0065 - acc: 0.9936 - val_loss: 0.1219 - val_acc: 0.8687\n",
      "Epoch 10/10\n",
      "15000/15000 [==============================] - 2s 133us/step - loss: 0.0134 - acc: 0.9853 - val_loss: 0.1214 - val_acc: 0.8696\n"
     ]
    }
   ],
   "source": [
    "history = model.fit(partial_x_train, partial_y_train,\n",
    "                   epochs=10,\n",
    "                   batch_size = 512,\n",
    "                   validation_data = (x_val, y_val))"
   ]
  },
  {
   "cell_type": "code",
   "execution_count": 29,
   "metadata": {},
   "outputs": [
    {
     "data": {
      "image/png": "[encoded data removed]",
      "text/plain": [
       "<Figure size 432x288 with 1 Axes>"
      ]
     },
     "metadata": {
      "needs_background": "light"
     },
     "output_type": "display_data"
    }
   ],
   "source": [
    "# loss : 훈련 손실, 검증 손실 그래프 그리기\n",
    "import matplotlib.pyplot as plt\n",
    "\n",
    "history_dict = history.history\n",
    "loss = history_dict['loss']\n",
    "val_loss = history_dict['val_loss']\n",
    "\n",
    "epochs = range(1, len(loss) +1 ) # len(loss) == 10\n",
    "\n",
    "plt.plot(epochs, loss, 'bo', label='Training loss')\n",
    "plt.plot(epochs, val_loss, 'b', label='Validation loss')\n",
    "plt.title('Training and Validation loss')\n",
    "plt.xlabel('Epochs')\n",
    "plt.ylabel('Loss')\n",
    "plt.legend()\n",
    "\n",
    "plt.show()"
   ]
  },
  {
   "cell_type": "code",
   "execution_count": 30,
   "metadata": {},
   "outputs": [
    {
     "data": {
      "image/png": "[encoded data removed]",
      "text/plain": [
       "<Figure size 432x288 with 1 Axes>"
      ]
     },
     "metadata": {
      "needs_background": "light"
     },
     "output_type": "display_data"
    }
   ],
   "source": [
    "# 일단 그래프 초기화\n",
    "plt.clf()\n",
    "\n",
    "# accuracy : 훈련 정확도, 검증 정확도 그리기\n",
    "\n",
    "# import matplotlib.pyplot as plt\n",
    "# history_dict = history.history\n",
    "\n",
    "acc = history_dict['acc']\n",
    "val_acc = history_dict['val_acc']\n",
    "\n",
    "# epochs = range(1, len(loss) + 1) \n",
    "\n",
    "plt.plot(epochs, acc, 'bo', label='Training acc')\n",
    "plt.plot(epochs, val_acc, 'b', label='Validation acc')\n",
    "plt.title('Training and validation accuracy')\n",
    "plt.xlabel('Epochs')\n",
    "plt.ylabel('Accuracy')\n",
    "plt.legend()\n",
    "\n",
    "plt.show()"
   ]
  }
 ],
 "metadata": {
  "kernelspec": {
   "display_name": "Python 3",
   "language": "python",
   "name": "python3"
  },
  "language_info": {
   "codemirror_mode": {
    "name": "ipython",
    "version": 3
   },
   "file_extension": ".py",
   "mimetype": "text/x-python",
   "name": "python",
   "nbconvert_exporter": "python",
   "pygments_lexer": "ipython3",
   "version": "3.6.9"
  }
 },
 "nbformat": 4,
 "nbformat_minor": 2
}
