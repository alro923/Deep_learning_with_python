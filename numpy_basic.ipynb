{
  "nbformat": 4,
  "nbformat_minor": 0,
  "metadata": {
    "colab": {
      "name": "numpy basic.ipynb",
      "provenance": [],
      "authorship_tag": "ABX9TyMnt68Ab9SzC7Y2hW9IK9ci",
      "include_colab_link": true
    },
    "kernelspec": {
      "name": "python3",
      "display_name": "Python 3"
    }
  },
  "cells": [
    {
      "cell_type": "markdown",
      "metadata": {
        "id": "view-in-github",
        "colab_type": "text"
      },
      "source": [
        "<a href=\"https://colab.research.google.com/github/alro923/Deep_learning_with_python/blob/master/numpy_basic.ipynb\" target=\"_parent\"><img src=\"https://colab.research.google.com/assets/colab-badge.svg\" alt=\"Open In Colab\"/></a>"
      ]
    },
    {
      "cell_type": "markdown",
      "metadata": {
        "id": "Mde7IwKUi40A",
        "colab_type": "text"
      },
      "source": [
        "[numpy devdocs link](https://numpy.org/devdocs/index.html)"
      ]
    },
    {
      "cell_type": "code",
      "metadata": {
        "id": "kyEcuSK4fpzp",
        "colab_type": "code",
        "colab": {}
      },
      "source": [
        "import numpy as np"
      ],
      "execution_count": 0,
      "outputs": []
    },
    {
      "cell_type": "code",
      "metadata": {
        "id": "AGicAlsvg4y2",
        "colab_type": "code",
        "colab": {
          "base_uri": "https://localhost:8080/",
          "height": 35
        },
        "outputId": "b9a92d80-42f2-4616-b68c-3ac5fd3d3c19"
      },
      "source": [
        "x = np.arange(10)\n",
        "x"
      ],
      "execution_count": 8,
      "outputs": [
        {
          "output_type": "execute_result",
          "data": {
            "text/plain": [
              "array([0, 1, 2, 3, 4, 5, 6, 7, 8, 9])"
            ]
          },
          "metadata": {
            "tags": []
          },
          "execution_count": 8
        }
      ]
    },
    {
      "cell_type": "markdown",
      "metadata": {
        "id": "6ByzQzEVfuro",
        "colab_type": "text"
      },
      "source": [
        "# Numpy\n",
        "* NumPy는 행렬이나 일반적으로 대규모 다차원 배열을 쉽게 처리 할 수 있도록 지원하는 파이썬의 라이브러리이다.\n",
        "* NumPy는 데이터 구조 외에도 수치 계산을 위해 효율적으로 구현된 기능을 제공한다."
      ]
    },
    {
      "cell_type": "markdown",
      "metadata": {
        "id": "GnD8UwDThprP",
        "colab_type": "text"
      },
      "source": [
        "# Arange : 숫자들을 array 형태로 반환\n",
        "* numpy.arange([start, ]stop, [step, ]dtype=None)\n",
        "* 반열린구간 [start, stop) 에서 step 의 크기만큼 일정하게 떨어져 있는 숫자들을 array 형태로 반환해 주는 함수다."
      ]
    },
    {
      "cell_type": "code",
      "metadata": {
        "id": "XQQI6Q6ih0YL",
        "colab_type": "code",
        "colab": {
          "base_uri": "https://localhost:8080/",
          "height": 35
        },
        "outputId": "c12ea280-a2b4-4340-8218-ff03267c58c9"
      },
      "source": [
        "x = np.arange(10)\n",
        "x"
      ],
      "execution_count": 9,
      "outputs": [
        {
          "output_type": "execute_result",
          "data": {
            "text/plain": [
              "array([0, 1, 2, 3, 4, 5, 6, 7, 8, 9])"
            ]
          },
          "metadata": {
            "tags": []
          },
          "execution_count": 9
        }
      ]
    },
    {
      "cell_type": "markdown",
      "metadata": {
        "id": "rqQBXilphQeI",
        "colab_type": "text"
      },
      "source": [
        "# Random : 난수생성"
      ]
    },
    {
      "cell_type": "code",
      "metadata": {
        "id": "cKyijO6Tf7y4",
        "colab_type": "code",
        "colab": {
          "base_uri": "https://localhost:8080/",
          "height": 35
        },
        "outputId": "977982dc-a37a-4fc0-e49a-89c536c3fca9"
      },
      "source": [
        "np.random.seed(0) # 시드 설정, 0과 같거나 큰 정수를 넣어준다.\n",
        "np.random.rand(5) # 5개의 난수 생성"
      ],
      "execution_count": 3,
      "outputs": [
        {
          "output_type": "execute_result",
          "data": {
            "text/plain": [
              "array([0.5488135 , 0.71518937, 0.60276338, 0.54488318, 0.4236548 ])"
            ]
          },
          "metadata": {
            "tags": []
          },
          "execution_count": 3
        }
      ]
    },
    {
      "cell_type": "code",
      "metadata": {
        "id": "OPQa1oZagsWu",
        "colab_type": "code",
        "colab": {
          "base_uri": "https://localhost:8080/",
          "height": 53
        },
        "outputId": "7b03c89b-59e5-4dfc-a0cb-2178d7bd9de3"
      },
      "source": [
        "np.random.rand(10)"
      ],
      "execution_count": 4,
      "outputs": [
        {
          "output_type": "execute_result",
          "data": {
            "text/plain": [
              "array([0.64589411, 0.43758721, 0.891773  , 0.96366276, 0.38344152,\n",
              "       0.79172504, 0.52889492, 0.56804456, 0.92559664, 0.07103606])"
            ]
          },
          "metadata": {
            "tags": []
          },
          "execution_count": 4
        }
      ]
    },
    {
      "cell_type": "code",
      "metadata": {
        "id": "e41MSifFguyN",
        "colab_type": "code",
        "colab": {
          "base_uri": "https://localhost:8080/",
          "height": 35
        },
        "outputId": "059663a2-302a-45da-8628-f7c3b94437da"
      },
      "source": [
        "np.random.seed(0)\n",
        "np.random.rand(5) # 시드가 같으면, 동일한 갯수일때 동일한 난수 발생"
      ],
      "execution_count": 5,
      "outputs": [
        {
          "output_type": "execute_result",
          "data": {
            "text/plain": [
              "array([0.5488135 , 0.71518937, 0.60276338, 0.54488318, 0.4236548 ])"
            ]
          },
          "metadata": {
            "tags": []
          },
          "execution_count": 5
        }
      ]
    },
    {
      "cell_type": "code",
      "metadata": {
        "id": "klIlwrY7jSXX",
        "colab_type": "code",
        "colab": {
          "base_uri": "https://localhost:8080/",
          "height": 35
        },
        "outputId": "829def32-7a3b-4b0f-bd98-0031e0689a98"
      },
      "source": [
        "# numpy.random.randint(low, high=None, size=None)\n",
        "# 만약 high를 입력하지 않으면 0과 low사이의 숫자를, high를 입력하면 low와 high는 사이의 숫자를 출력한다. size는 난수의 숫자이다.\n",
        "# 과대적합을 방지하기 위해 드롭아웃 층을 추가할때 사용함\n",
        "\n",
        "np.random.randint(0, high = 2, size = 5)"
      ],
      "execution_count": 13,
      "outputs": [
        {
          "output_type": "execute_result",
          "data": {
            "text/plain": [
              "array([1, 0, 0, 1, 0])"
            ]
          },
          "metadata": {
            "tags": []
          },
          "execution_count": 13
        }
      ]
    },
    {
      "cell_type": "code",
      "metadata": {
        "id": "bFbblQizjw3P",
        "colab_type": "code",
        "colab": {
          "base_uri": "https://localhost:8080/",
          "height": 35
        },
        "outputId": "be2234fb-f787-4ced-f69e-b3050b599385"
      },
      "source": [
        "np.random.randint(0, high = 100, size = 10)"
      ],
      "execution_count": 16,
      "outputs": [
        {
          "output_type": "execute_result",
          "data": {
            "text/plain": [
              "array([88, 88, 12, 58, 65, 39, 87, 46, 88, 81])"
            ]
          },
          "metadata": {
            "tags": []
          },
          "execution_count": 16
        }
      ]
    }
  ]
}